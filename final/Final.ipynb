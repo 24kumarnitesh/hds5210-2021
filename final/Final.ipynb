{
 "cells": [
  {
   "cell_type": "markdown",
   "metadata": {},
   "source": [
    "HADM 5120 : Spring Final Project"
   ]
  },
  {
   "cell_type": "markdown",
   "metadata": {},
   "source": [
    "'''\n",
    "\n",
    "Objective: This Final Project explore diabetes occurrence and cases in the state of Illinois and will determine who or what groups of people may be at greater risk for complications\n",
    "\n",
    "There are 3 datasets used, each of different data types from both Kaggle.com and the CDC Diabetes database\n",
    "\n",
    "The following report includes visualizations to aid interpretation of data, constraints, & final conclusions.\n",
    "\n",
    "'''"
   ]
  },
  {
   "cell_type": "code",
   "execution_count": 271,
   "metadata": {},
   "outputs": [
    {
     "data": {
      "text/plain": [
       "'\\n\\n\\n\\n'"
      ]
     },
     "execution_count": 271,
     "metadata": {},
     "output_type": "execute_result"
    }
   ],
   "source": [
    "import json\n",
    "import pandas as pd\n",
    "import matplotlib.pyplot as plt\n",
    "\n",
    "hospitalizations = pd.read_csv('Hospitalizations_Hyper.csv')\n",
    "\n",
    "deaths = pd.read_excel('Deaths by Age and Sex.xlsx')\n",
    "\n",
    "diabetes = pd.read_json('diabetes_predictor.json')\n",
    "\n",
    "\n",
    "def renameDF(dataframe, original, newname):\n",
    "    return dataframe.rename(columns = {original: newname})\n",
    "'''\n",
    "This funtion will take in dataframe name, original column name, and new intended column name and change it to the \n",
    "new column name wanted for a better ease of understandng column description.\n",
    "\n",
    ">>> dataframe.rename(columns = {'A much longer than needed name for title': 'Title'})\n",
    "df['Title']\n",
    "\n",
    "'''\n",
    "\n",
    "def formatDataFrames(dataframe, column):\n",
    "    return dataframe[column].astype(int)\n",
    "'''\n",
    "This funtion converts all contents of a column from string, etc. into a integer which can be used later to be aggregated\n",
    "much more easily. \n",
    "\n",
    ">>> dataframe['Data'].astype(int)\n",
    "df['Data']\n",
    "\n",
    "'''\n",
    "    \n",
    "def dfPrintHead(dataframe):\n",
    "    print (dataframe.head())\n",
    "'''\n",
    "This funtion will return the first five rows worth of information will can allow us to check whether previous commands\n",
    "and funtions have returned intended items.\n",
    "\n",
    ">>> print (dataframe.head())\n",
    "\"First few rows presented\"\n",
    "\n",
    "'''\n",
    "    "
   ]
  },
  {
   "cell_type": "code",
   "execution_count": 288,
   "metadata": {},
   "outputs": [
    {
     "data": {
      "text/html": [
       "<div>\n",
       "<style scoped>\n",
       "    .dataframe tbody tr th:only-of-type {\n",
       "        vertical-align: middle;\n",
       "    }\n",
       "\n",
       "    .dataframe tbody tr th {\n",
       "        vertical-align: top;\n",
       "    }\n",
       "\n",
       "    .dataframe thead th {\n",
       "        text-align: right;\n",
       "    }\n",
       "</style>\n",
       "<table border=\"1\" class=\"dataframe\">\n",
       "  <thead>\n",
       "    <tr style=\"text-align: right;\">\n",
       "      <th></th>\n",
       "      <th>Glucose</th>\n",
       "      <th>Outcome</th>\n",
       "    </tr>\n",
       "  </thead>\n",
       "  <tbody>\n",
       "    <tr>\n",
       "      <th>1</th>\n",
       "      <td>0</td>\n",
       "      <td>6</td>\n",
       "    </tr>\n",
       "    <tr>\n",
       "      <th>20</th>\n",
       "      <td>80</td>\n",
       "      <td>3</td>\n",
       "    </tr>\n",
       "    <tr>\n",
       "      <th>25</th>\n",
       "      <td>84</td>\n",
       "      <td>3</td>\n",
       "    </tr>\n",
       "    <tr>\n",
       "      <th>27</th>\n",
       "      <td>85</td>\n",
       "      <td>2</td>\n",
       "    </tr>\n",
       "    <tr>\n",
       "      <th>31</th>\n",
       "      <td>88</td>\n",
       "      <td>3</td>\n",
       "    </tr>\n",
       "    <tr>\n",
       "      <th>...</th>\n",
       "      <td>...</td>\n",
       "      <td>...</td>\n",
       "    </tr>\n",
       "    <tr>\n",
       "      <th>209</th>\n",
       "      <td>195</td>\n",
       "      <td>8</td>\n",
       "    </tr>\n",
       "    <tr>\n",
       "      <th>210</th>\n",
       "      <td>196</td>\n",
       "      <td>5</td>\n",
       "    </tr>\n",
       "    <tr>\n",
       "      <th>212</th>\n",
       "      <td>197</td>\n",
       "      <td>6</td>\n",
       "    </tr>\n",
       "    <tr>\n",
       "      <th>213</th>\n",
       "      <td>198</td>\n",
       "      <td>2</td>\n",
       "    </tr>\n",
       "    <tr>\n",
       "      <th>214</th>\n",
       "      <td>199</td>\n",
       "      <td>3</td>\n",
       "    </tr>\n",
       "  </tbody>\n",
       "</table>\n",
       "<p>103 rows × 2 columns</p>\n",
       "</div>"
      ],
      "text/plain": [
       "     Glucose  Outcome\n",
       "1          0        6\n",
       "20        80        3\n",
       "25        84        3\n",
       "27        85        2\n",
       "31        88        3\n",
       "..       ...      ...\n",
       "209      195        8\n",
       "210      196        5\n",
       "212      197        6\n",
       "213      198        2\n",
       "214      199        3\n",
       "\n",
       "[103 rows x 2 columns]"
      ]
     },
     "execution_count": 288,
     "metadata": {},
     "output_type": "execute_result"
    }
   ],
   "source": [
    "data = [diabetes['Glucose'], diabetes['Outcome']]\n",
    "headers = ['Glucose', 'Outcome']\n",
    "df_1 = pd.concat(data, axis=1, keys=headers)\n",
    "\n",
    "df_1 = df1.groupby(['Glucose', 'Outcome'], as_index=False)['Outcome'].sum()\n",
    "df_1 = df1[df1.Outcome != 0]\n",
    "\n",
    "## In order to get rid out the \"zero\" outcome which is a reference to diabetes not occurring, I had to research how to remove 0 values\n",
    "## but keep everything else and the ! capability of python was referenced to on python documentation on python.org. This worked well to\n",
    "## remove 0 related values and allow only values for diabetes occurrence to show\n",
    "\n",
    "\n",
    "df_1\n",
    "\n",
    "## Experienced difficulty extracting data from json file for intended columns and rows using groupby funtion and do\n",
    "## appropriate aggregations. Hence I chose to construct dataframe from scatch and using concat to join them to do \n",
    "## desired manipulations."
   ]
  },
  {
   "cell_type": "code",
   "execution_count": 273,
   "metadata": {},
   "outputs": [
    {
     "name": "stdout",
     "output_type": "stream",
     "text": [
      "False\n",
      "True\n",
      "True\n"
     ]
    }
   ],
   "source": [
    "print(3 != 3)\n",
    "print(3 == 3)\n",
    "print(2 != 3)"
   ]
  },
  {
   "cell_type": "code",
   "execution_count": null,
   "metadata": {},
   "outputs": [],
   "source": [
    "## This is my small test and method for me to see and check my understanding if I know what the !='#' is or not."
   ]
  },
  {
   "cell_type": "code",
   "execution_count": 274,
   "metadata": {},
   "outputs": [
    {
     "data": {
      "text/plain": [
       "<matplotlib.axes._subplots.AxesSubplot at 0x7fdaf4280a58>"
      ]
     },
     "execution_count": 274,
     "metadata": {},
     "output_type": "execute_result"
    },
    {
     "data": {
      "image/png": "[encoded data removed]",
      "text/plain": [
       "<Figure size 864x576 with 1 Axes>"
      ]
     },
     "metadata": {
      "needs_background": "light"
     },
     "output_type": "display_data"
    }
   ],
   "source": [
    "fig, ax = plt.subplots(figsize=(12,8))\n",
    "\n",
    "\n",
    "df_1.plot(kind = 'scatter', x='Glucose', y='Outcome', ax=ax)\n"
   ]
  },
  {
   "cell_type": "markdown",
   "metadata": {},
   "source": [
    "This graph shows in the state of Illinois, the cases of diabetes that are diagnosed are greater in quantity of Hyperglycemic type. Hyperglycemia is considered to be glucose levels above the level of 125. "
   ]
  },
  {
   "cell_type": "code",
   "execution_count": null,
   "metadata": {},
   "outputs": [],
   "source": []
  },
  {
   "cell_type": "code",
   "execution_count": 277,
   "metadata": {},
   "outputs": [
    {
     "data": {
      "text/html": [
       "<div>\n",
       "<style scoped>\n",
       "    .dataframe tbody tr th:only-of-type {\n",
       "        vertical-align: middle;\n",
       "    }\n",
       "\n",
       "    .dataframe tbody tr th {\n",
       "        vertical-align: top;\n",
       "    }\n",
       "\n",
       "    .dataframe thead th {\n",
       "        text-align: right;\n",
       "    }\n",
       "</style>\n",
       "<table border=\"1\" class=\"dataframe\">\n",
       "  <thead>\n",
       "    <tr style=\"text-align: right;\">\n",
       "      <th></th>\n",
       "      <th>Age</th>\n",
       "      <th>Outcome</th>\n",
       "    </tr>\n",
       "  </thead>\n",
       "  <tbody>\n",
       "    <tr>\n",
       "      <th>1</th>\n",
       "      <td>21</td>\n",
       "      <td>12</td>\n",
       "    </tr>\n",
       "    <tr>\n",
       "      <th>3</th>\n",
       "      <td>22</td>\n",
       "      <td>31</td>\n",
       "    </tr>\n",
       "    <tr>\n",
       "      <th>5</th>\n",
       "      <td>23</td>\n",
       "      <td>18</td>\n",
       "    </tr>\n",
       "    <tr>\n",
       "      <th>7</th>\n",
       "      <td>24</td>\n",
       "      <td>22</td>\n",
       "    </tr>\n",
       "    <tr>\n",
       "      <th>9</th>\n",
       "      <td>25</td>\n",
       "      <td>38</td>\n",
       "    </tr>\n",
       "    <tr>\n",
       "      <th>11</th>\n",
       "      <td>26</td>\n",
       "      <td>18</td>\n",
       "    </tr>\n",
       "    <tr>\n",
       "      <th>13</th>\n",
       "      <td>27</td>\n",
       "      <td>21</td>\n",
       "    </tr>\n",
       "    <tr>\n",
       "      <th>15</th>\n",
       "      <td>28</td>\n",
       "      <td>25</td>\n",
       "    </tr>\n",
       "    <tr>\n",
       "      <th>17</th>\n",
       "      <td>29</td>\n",
       "      <td>31</td>\n",
       "    </tr>\n",
       "    <tr>\n",
       "      <th>19</th>\n",
       "      <td>30</td>\n",
       "      <td>18</td>\n",
       "    </tr>\n",
       "    <tr>\n",
       "      <th>21</th>\n",
       "      <td>31</td>\n",
       "      <td>33</td>\n",
       "    </tr>\n",
       "    <tr>\n",
       "      <th>23</th>\n",
       "      <td>32</td>\n",
       "      <td>15</td>\n",
       "    </tr>\n",
       "    <tr>\n",
       "      <th>25</th>\n",
       "      <td>33</td>\n",
       "      <td>23</td>\n",
       "    </tr>\n",
       "    <tr>\n",
       "      <th>27</th>\n",
       "      <td>34</td>\n",
       "      <td>9</td>\n",
       "    </tr>\n",
       "    <tr>\n",
       "      <th>29</th>\n",
       "      <td>35</td>\n",
       "      <td>15</td>\n",
       "    </tr>\n",
       "    <tr>\n",
       "      <th>31</th>\n",
       "      <td>36</td>\n",
       "      <td>29</td>\n",
       "    </tr>\n",
       "    <tr>\n",
       "      <th>33</th>\n",
       "      <td>37</td>\n",
       "      <td>16</td>\n",
       "    </tr>\n",
       "    <tr>\n",
       "      <th>35</th>\n",
       "      <td>38</td>\n",
       "      <td>28</td>\n",
       "    </tr>\n",
       "    <tr>\n",
       "      <th>37</th>\n",
       "      <td>39</td>\n",
       "      <td>9</td>\n",
       "    </tr>\n",
       "    <tr>\n",
       "      <th>39</th>\n",
       "      <td>40</td>\n",
       "      <td>17</td>\n",
       "    </tr>\n",
       "    <tr>\n",
       "      <th>41</th>\n",
       "      <td>41</td>\n",
       "      <td>28</td>\n",
       "    </tr>\n",
       "    <tr>\n",
       "      <th>43</th>\n",
       "      <td>42</td>\n",
       "      <td>19</td>\n",
       "    </tr>\n",
       "    <tr>\n",
       "      <th>45</th>\n",
       "      <td>43</td>\n",
       "      <td>29</td>\n",
       "    </tr>\n",
       "    <tr>\n",
       "      <th>47</th>\n",
       "      <td>44</td>\n",
       "      <td>14</td>\n",
       "    </tr>\n",
       "    <tr>\n",
       "      <th>49</th>\n",
       "      <td>45</td>\n",
       "      <td>23</td>\n",
       "    </tr>\n",
       "    <tr>\n",
       "      <th>51</th>\n",
       "      <td>46</td>\n",
       "      <td>21</td>\n",
       "    </tr>\n",
       "    <tr>\n",
       "      <th>53</th>\n",
       "      <td>47</td>\n",
       "      <td>12</td>\n",
       "    </tr>\n",
       "    <tr>\n",
       "      <th>55</th>\n",
       "      <td>48</td>\n",
       "      <td>3</td>\n",
       "    </tr>\n",
       "    <tr>\n",
       "      <th>57</th>\n",
       "      <td>49</td>\n",
       "      <td>8</td>\n",
       "    </tr>\n",
       "    <tr>\n",
       "      <th>59</th>\n",
       "      <td>50</td>\n",
       "      <td>14</td>\n",
       "    </tr>\n",
       "    <tr>\n",
       "      <th>61</th>\n",
       "      <td>51</td>\n",
       "      <td>7</td>\n",
       "    </tr>\n",
       "    <tr>\n",
       "      <th>63</th>\n",
       "      <td>52</td>\n",
       "      <td>17</td>\n",
       "    </tr>\n",
       "    <tr>\n",
       "      <th>65</th>\n",
       "      <td>53</td>\n",
       "      <td>7</td>\n",
       "    </tr>\n",
       "    <tr>\n",
       "      <th>67</th>\n",
       "      <td>54</td>\n",
       "      <td>7</td>\n",
       "    </tr>\n",
       "    <tr>\n",
       "      <th>69</th>\n",
       "      <td>55</td>\n",
       "      <td>5</td>\n",
       "    </tr>\n",
       "    <tr>\n",
       "      <th>71</th>\n",
       "      <td>56</td>\n",
       "      <td>4</td>\n",
       "    </tr>\n",
       "    <tr>\n",
       "      <th>73</th>\n",
       "      <td>57</td>\n",
       "      <td>2</td>\n",
       "    </tr>\n",
       "    <tr>\n",
       "      <th>75</th>\n",
       "      <td>58</td>\n",
       "      <td>8</td>\n",
       "    </tr>\n",
       "    <tr>\n",
       "      <th>77</th>\n",
       "      <td>59</td>\n",
       "      <td>3</td>\n",
       "    </tr>\n",
       "    <tr>\n",
       "      <th>79</th>\n",
       "      <td>60</td>\n",
       "      <td>4</td>\n",
       "    </tr>\n",
       "    <tr>\n",
       "      <th>81</th>\n",
       "      <td>61</td>\n",
       "      <td>3</td>\n",
       "    </tr>\n",
       "    <tr>\n",
       "      <th>83</th>\n",
       "      <td>62</td>\n",
       "      <td>5</td>\n",
       "    </tr>\n",
       "    <tr>\n",
       "      <th>85</th>\n",
       "      <td>63</td>\n",
       "      <td>2</td>\n",
       "    </tr>\n",
       "    <tr>\n",
       "      <th>89</th>\n",
       "      <td>66</td>\n",
       "      <td>5</td>\n",
       "    </tr>\n",
       "    <tr>\n",
       "      <th>91</th>\n",
       "      <td>67</td>\n",
       "      <td>3</td>\n",
       "    </tr>\n",
       "    <tr>\n",
       "      <th>94</th>\n",
       "      <td>70</td>\n",
       "      <td>3</td>\n",
       "    </tr>\n",
       "  </tbody>\n",
       "</table>\n",
       "</div>"
      ],
      "text/plain": [
       "    Age  Outcome\n",
       "1    21       12\n",
       "3    22       31\n",
       "5    23       18\n",
       "7    24       22\n",
       "9    25       38\n",
       "11   26       18\n",
       "13   27       21\n",
       "15   28       25\n",
       "17   29       31\n",
       "19   30       18\n",
       "21   31       33\n",
       "23   32       15\n",
       "25   33       23\n",
       "27   34        9\n",
       "29   35       15\n",
       "31   36       29\n",
       "33   37       16\n",
       "35   38       28\n",
       "37   39        9\n",
       "39   40       17\n",
       "41   41       28\n",
       "43   42       19\n",
       "45   43       29\n",
       "47   44       14\n",
       "49   45       23\n",
       "51   46       21\n",
       "53   47       12\n",
       "55   48        3\n",
       "57   49        8\n",
       "59   50       14\n",
       "61   51        7\n",
       "63   52       17\n",
       "65   53        7\n",
       "67   54        7\n",
       "69   55        5\n",
       "71   56        4\n",
       "73   57        2\n",
       "75   58        8\n",
       "77   59        3\n",
       "79   60        4\n",
       "81   61        3\n",
       "83   62        5\n",
       "85   63        2\n",
       "89   66        5\n",
       "91   67        3\n",
       "94   70        3"
      ]
     },
     "execution_count": 277,
     "metadata": {},
     "output_type": "execute_result"
    }
   ],
   "source": [
    "data = [diabetes['Age'], diabetes['Outcome']]\n",
    "headers = ['Age', 'Outcome']\n",
    "df_1 = pd.concat(data, axis=1, keys=headers)\n",
    "\n",
    "df_1 = df_1.groupby(['Age', 'Outcome'], as_index=False)['Outcome'].sum()\n",
    "df_1 = df_1[df_1.Outcome != 0]\n",
    "\n",
    "## In order to get rid out the \"zero\" outcome which is a refrence to diabetes not occuring, I had to research how to remove 0 values\n",
    "## but keep everything else and the ! capability of python was refrenced to on python documenation on python.org. This worked well to\n",
    "## remove 0 related values and allow only values for diabetes occurance to show\n",
    "\n",
    "df_1\n",
    "\n",
    "## Same issue as mentioned above, \n",
    "## Hence I chose to construct dataframe from scatch and using concat to join them to do \n",
    "## desired manipulations."
   ]
  },
  {
   "cell_type": "code",
   "execution_count": 278,
   "metadata": {},
   "outputs": [
    {
     "data": {
      "text/plain": [
       "<matplotlib.axes._subplots.AxesSubplot at 0x7fdaf437ccf8>"
      ]
     },
     "execution_count": 278,
     "metadata": {},
     "output_type": "execute_result"
    },
    {
     "data": {
      "image/png": "[encoded data removed]",
      "text/plain": [
       "<Figure size 864x576 with 1 Axes>"
      ]
     },
     "metadata": {
      "needs_background": "light"
     },
     "output_type": "display_data"
    }
   ],
   "source": [
    "fig, ax = plt.subplots(figsize=(12,8))\n",
    "\n",
    "\n",
    "df_1.plot(kind = 'scatter', x=\"Age\", y=\"Outcome\", ax=ax)"
   ]
  },
  {
   "cell_type": "markdown",
   "metadata": {},
   "source": [
    "This graph is very interesting because it allows us to see that a greater number of younger individuals below the age of 40 are those getting diagnosed with Hyperglycemia. In this particular dataset the greatest number of diagnoses are occurring in young adults 20-30 years of age. This is not exactly what one would have traditionally expected to see\n",
    "\n"
   ]
  },
  {
   "cell_type": "code",
   "execution_count": null,
   "metadata": {},
   "outputs": [],
   "source": []
  },
  {
   "cell_type": "code",
   "execution_count": null,
   "metadata": {},
   "outputs": [],
   "source": []
  },
  {
   "cell_type": "code",
   "execution_count": 279,
   "metadata": {},
   "outputs": [
    {
     "name": "stdout",
     "output_type": "stream",
     "text": [
      "       Sex Age Group (in years)  Hyperglycemic Unnamed: 3 Unnamed: 4  \\\n",
      "2  Overall                18-44            178        1.5        0.9   \n",
      "3        0                45-64            375        0.9        0.7   \n",
      "4        0                  65+            263        0.6        0.5   \n",
      "5        0                Total            816        0.8        0.7   \n",
      "6    Males                18-44            113        2.5        1.1   \n",
      "\n",
      "  Unnamed: 5  Unnamed: 6  \n",
      "2        2.1         0.0  \n",
      "3        1.0         0.0  \n",
      "4        0.7         0.0  \n",
      "5        0.9         0.0  \n",
      "6        3.8         0.0  \n"
     ]
    }
   ],
   "source": [
    "hospitalizations_1 = hospitalizations.fillna(0)\n",
    "\n",
    "hospitalizations_2 = hospitalizations_1.drop(0)\n",
    "\n",
    "hospitalizations_3 = hospitalizations_2.drop(1)\n",
    "\n",
    "df_2 = pd.DataFrame(hospitalizations_3)\n",
    "\n",
    "df_2 = renameDF(df_2, 'Hyperosmolar Hyperglycemic Nonketotic Syndrome as First-Listed Diagnosis', 'Hyperglycemic')\n",
    "\n",
    "df_2['Hyperglycemic'] = formatDataFrames(df_2, 'Hyperglycemic')\n",
    "\n",
    "dfPrintHead(df_2)\n"
   ]
  },
  {
   "cell_type": "code",
   "execution_count": 280,
   "metadata": {},
   "outputs": [
    {
     "data": {
      "text/plain": [
       "<matplotlib.axes._subplots.AxesSubplot at 0x7fdaf50a76a0>"
      ]
     },
     "execution_count": 280,
     "metadata": {},
     "output_type": "execute_result"
    },
    {
     "data": {
      "image/png": "[encoded data removed]",
      "text/plain": [
       "<Figure size 432x288 with 1 Axes>"
      ]
     },
     "metadata": {
      "needs_background": "light"
     },
     "output_type": "display_data"
    }
   ],
   "source": [
    "df_2.groupby(['Age Group (in years)'])['Hyperglycemic'].agg(sum).plot.bar()"
   ]
  },
  {
   "cell_type": "markdown",
   "metadata": {},
   "source": [
    "This graph breaks down the number of cases of Hyperglycemic individuals by certain age groups who become hospitalized. This is quite interesting because here we can see those in the 18-44 age group do not end up hospitalized despite them being the highest number of Hyperglycemic patients, which is one of the most dangerous health groups to be in. An interesting result"
   ]
  },
  {
   "cell_type": "code",
   "execution_count": 281,
   "metadata": {},
   "outputs": [],
   "source": [
    "part1 = df_2.groupby(['Age Group (in years)'])['Hyperglycemic'].agg(sum)"
   ]
  },
  {
   "cell_type": "code",
   "execution_count": null,
   "metadata": {},
   "outputs": [],
   "source": []
  },
  {
   "cell_type": "code",
   "execution_count": null,
   "metadata": {},
   "outputs": [],
   "source": []
  },
  {
   "cell_type": "code",
   "execution_count": 282,
   "metadata": {},
   "outputs": [
    {
     "name": "stdout",
     "output_type": "stream",
     "text": [
      "  Diabetes Deaths  Unnamed: 1  Unnamed: 2  Unnamed: 3  Unnamed: 4  Unnamed: 5\n",
      "1           15-44         105         0.0         0.0         0.0         0.0\n",
      "2           45-64         694         0.0         0.0         0.0         0.0\n",
      "3           65-74         601         0.0         0.0         0.0         0.0\n",
      "4             75+        1396         0.0         0.0         0.0         0.0\n"
     ]
    }
   ],
   "source": [
    "deaths_2 = deaths.fillna(0)\n",
    "\n",
    "deaths_3 = deaths_2.drop(0)\n",
    "deaths_4 = deaths_3.drop(5)\n",
    "\n",
    "df_3 = pd.DataFrame(deaths_4)\n",
    "\n",
    "df_3.replace(',','', regex=True, inplace=True)\n",
    "\n",
    "## This code is very important to have because as I went to covert this column into int values it gave me a error, \n",
    "## because the \",\" was not being read in. I researched further this issue and found a computer cannot understand a \n",
    "## comma as a number or a value. Therefore I had to do some research to find and construct this code to ignore the \n",
    "## comma and have the column be understood as integers.\n",
    "\n",
    "df_3 = renameDF(df_3, 'Number of Deaths with Diabetes as Underlying Cause of Death (UCD) in Persons, Aged 15 Years or Older, Illinois, 2013', 'Diabetes Deaths')\n",
    "\n",
    "df_3['Unnamed: 1'] = formatDataFrames(df_3, 'Unnamed: 1')\n",
    "\n",
    "dfPrintHead(df_3)\n",
    "\n"
   ]
  },
  {
   "cell_type": "code",
   "execution_count": 283,
   "metadata": {},
   "outputs": [
    {
     "data": {
      "text/plain": [
       "<matplotlib.axes._subplots.AxesSubplot at 0x7fdaf61b1d30>"
      ]
     },
     "execution_count": 283,
     "metadata": {},
     "output_type": "execute_result"
    },
    {
     "data": {
      "image/png": "[encoded data removed]",
      "text/plain": [
       "<Figure size 432x288 with 1 Axes>"
      ]
     },
     "metadata": {
      "needs_background": "light"
     },
     "output_type": "display_data"
    }
   ],
   "source": [
    "df_3.groupby(['Diabetes Deaths'])['Unnamed: 1'].agg(sum).plot.bar()"
   ]
  },
  {
   "cell_type": "markdown",
   "metadata": {},
   "source": [
    "This graph is done with downloaded version of data for diabetes related deaths in certain age groups for the same hospitalized patients. The same discrepancy mentioned and seen on the previous graph is further grown in the deaths circumstance. The deaths for those in middle age, 45-64 has further risen and is higher than that of those in the younger age group. "
   ]
  },
  {
   "cell_type": "code",
   "execution_count": null,
   "metadata": {},
   "outputs": [],
   "source": []
  },
  {
   "cell_type": "code",
   "execution_count": null,
   "metadata": {},
   "outputs": [],
   "source": []
  },
  {
   "cell_type": "code",
   "execution_count": 285,
   "metadata": {},
   "outputs": [
    {
     "name": "stdout",
     "output_type": "stream",
     "text": [
      "  Age Group  Number of Deaths\n",
      "0     15-44               105\n",
      "1     45-64               694\n",
      "2     65-74               601\n",
      "3       75+              1396\n",
      "4     Total              2796\n"
     ]
    }
   ],
   "source": [
    "import requests\n",
    "import pandas as pd\n",
    "headers = {\n",
    "  'sec-ch-ua': '\" Not A;Brand\";v=\"99\", \"Chromium\";v=\"90\", \"Google Chrome\";v=\"90\"',\n",
    "  'sec-ch-ua-mobile': '?0',\n",
    "  'Upgrade-Insecure-Requests': '1',\n",
    "  'Origin': 'https://nccd.cdc.gov',\n",
    "  'Content-Type': 'application/x-www-form-urlencoded',\n",
    "  'User-Agent': 'Mozilla/5.0 (Macintosh; Intel Mac OS X 10_15_7) AppleWebKit/537.36 (KHTML, like Gecko) Chrome/90.0.4430.93 Safari/537.36',\n",
    "  'Accept': 'text/html,application/xhtml+xml,application/xml;q=0.9,image/avif,image/webp,image/apng,*/*;q=0.8,application/signed-exchange;v=b3;q=0.9',\n",
    "  'Sec-Fetch-Site': 'same-origin',\n",
    "  'Sec-Fetch-Mode': 'navigate',\n",
    "  'Sec-Fetch-User': '?1',\n",
    "  'Sec-Fetch-Dest': 'document',\n",
    "  'Referer': 'https://nccd.cdc.gov/Toolkit/DiabetesBurden/Mortality/DiabetesCauseDeath',\n",
    "  'Accept-Language': 'en-US,en;q=0.9'\n",
    "}\n",
    "state = 'ddlSelectedState=Illinois'\n",
    "result = requests.post('https://nccd.cdc.gov/Toolkit/DiabetesBurden/Mortality/DiabetesCauseDeath', data=state, headers=headers)\n",
    "if result.status_code == 200:\n",
    "    tables = pd.read_html(result.text)\n",
    "else:\n",
    "    print(result.status_code)\n",
    "\n",
    "tables[2]\n",
    "\n",
    "df_int = pd.DataFrame(tables[2])\n",
    "\n",
    "df_int = renameDF(df_int, 'Number of DeathsReports the number of deaths with diabetes as the underlying cause of death.', 'Number of Deaths')\n",
    "\n",
    "df_int['Number of Deaths'] = formatDataFrames(df_int, 'Number of Deaths')\n",
    "\n",
    "\n",
    "dfPrintHead(df_int)\n",
    "\n"
   ]
  },
  {
   "cell_type": "code",
   "execution_count": 252,
   "metadata": {},
   "outputs": [
    {
     "data": {
      "text/plain": [
       "<matplotlib.axes._subplots.AxesSubplot at 0x7fdaf4575630>"
      ]
     },
     "execution_count": 252,
     "metadata": {},
     "output_type": "execute_result"
    },
    {
     "data": {
      "image/png": "[encoded data removed]",
      "text/plain": [
       "<Figure size 432x288 with 1 Axes>"
      ]
     },
     "metadata": {
      "needs_background": "light"
     },
     "output_type": "display_data"
    }
   ],
   "source": [
    "df_int.groupby(['Age Group'])['Number of Deaths'].agg(sum).plot.bar()"
   ]
  },
  {
   "cell_type": "markdown",
   "metadata": {},
   "source": [
    "This graph is the same as the previous graph except this one come directly from the internet and was done by parsing HTML and read in using pandas and the previously mentioned functions as well. The graph shows same results and includes a total column. "
   ]
  },
  {
   "cell_type": "code",
   "execution_count": 253,
   "metadata": {},
   "outputs": [],
   "source": [
    "part2 = df_int.groupby(['Age Group'])['Number of Deaths'].agg(sum)"
   ]
  },
  {
   "cell_type": "code",
   "execution_count": null,
   "metadata": {},
   "outputs": [],
   "source": []
  },
  {
   "cell_type": "code",
   "execution_count": null,
   "metadata": {},
   "outputs": [],
   "source": []
  },
  {
   "cell_type": "code",
   "execution_count": 270,
   "metadata": {},
   "outputs": [
    {
     "data": {
      "text/plain": [
       "<matplotlib.axes._subplots.AxesSubplot at 0x7fdaf430f630>"
      ]
     },
     "execution_count": 270,
     "metadata": {},
     "output_type": "execute_result"
    },
    {
     "data": {
      "image/png": "[encoded data removed]",
      "text/plain": [
       "<Figure size 432x288 with 1 Axes>"
      ]
     },
     "metadata": {
      "needs_background": "light"
     },
     "output_type": "display_data"
    }
   ],
   "source": [
    "frames = [part1, part2]\n",
    "\n",
    "result = pd.concat(frames)\n",
    "\n",
    "result.plot.bar()"
   ]
  },
  {
   "cell_type": "markdown",
   "metadata": {},
   "source": [
    "This merge and graphing analysis displays the overall hospitalization vs death rate. The hosptitalization of those in the 75+ catagory look to be in the most dangerous age catagory for Hyperglycemic health conditions. The graph shows that recovery from the hosptial seems much more unlikey for the elders when compared to the younger groups"
   ]
  },
  {
   "cell_type": "code",
   "execution_count": null,
   "metadata": {},
   "outputs": [],
   "source": []
  },
  {
   "cell_type": "markdown",
   "metadata": {},
   "source": [
    "'''\n",
    "Some constraints with this analysis and project have been \"field level transformations\". I performed 4 field level transformations and\n",
    "only performed those because doing anymore would be redundant and unnecessary and would not serve anymore purpose to the project.\n",
    "\n",
    "Another constraint I faced was performing additional merges. For my particular data and purpose I was attempting to achieve it did not\n",
    "make sense to perform additional merges and gain further insight.\n",
    "\n",
    "'''"
   ]
  },
  {
   "cell_type": "markdown",
   "metadata": {},
   "source": [
    "'''\n",
    "Some large conclusions that can be drawn from these analyses and graphs are the following:\n",
    "\n",
    "Glucose levels are a great predictor for testing whether someone gets diabetes or not. From a further analysis we are able to \n",
    "learn age can also play a factor in the level of prevalence of diabetes. The outcomes of diabetes for these patients shows that a \n",
    "great number of them have Hyperglycemia. We also learned that Hyperglycemic cases were greatest among the younger groups of patients\n",
    "below the age of 40. \n",
    "\n",
    "From there, hospitalization among certain age groups was graphed and analyzed to further to see what happen once the Hyperglycemic\n",
    "condition worsens. We see the older age group become hospitalized more compared to the younger Hyperglycemic patients. \n",
    "\n",
    "A death analysis was also performed to further see what the end result of Hyperglycemic patients is. The death is higher for older \n",
    "patients which can align to a prediction made for that outcome. \n",
    "\n",
    "As a conclusion we have gained insight onto the Hyperglycemic patient population of Illinois and how different age-groups can have \n",
    "drastically different outcome in hospitalization rates and death rates. Despite the younger age groups developing Hyperglycemia in \n",
    "greater numbers this does not reflect results of death. We can conclude those in age groups greater than 40 are in greatest risk for\n",
    "Hyperglycemic related deaths.\n",
    "\n",
    "\n",
    "To further improve the results and quality of the analysis I would like to explore why those in a younger age category are less likely\n",
    "to end up in hospitalizations and resulting in death. More data exploration would possibly find us exercise or lifestyle choices that\n",
    "can lead to possible reduction in symptoms that those in an older age category might not have access to. Exploration of living condition\n",
    "and environment could also provide great benefit as well. \n",
    "\n",
    "'''"
   ]
  },
  {
   "cell_type": "markdown",
   "metadata": {},
   "source": [
    "https://nccd.cdc.gov/Toolkit/DiabetesBurden/Home/Download_HealthBurden\n",
    "\n",
    "https://www.kaggle.com/johndasilva/diabetes\n"
   ]
  },
  {
   "cell_type": "code",
   "execution_count": null,
   "metadata": {},
   "outputs": [],
   "source": []
  },
  {
   "cell_type": "code",
   "execution_count": null,
   "metadata": {},
   "outputs": [],
   "source": []
  },
  {
   "cell_type": "code",
   "execution_count": 292,
   "metadata": {},
   "outputs": [
    {
     "name": "stdout",
     "output_type": "stream",
     "text": [
      "Already up to date.\n",
      "On branch main\n",
      "Your branch is up to date with 'origin/main'.\n",
      "\n",
      "Untracked files:\n",
      "\tDeaths by Age and Sex.xlsx\n",
      "\tDiabetes_Deaths.xlsx\n",
      "\tHospitalizations_Hyper.csv\n",
      "\tOld Data/\n",
      "\tUntitled.ipynb\n",
      "\tUntitled1.ipynb\n",
      "\tdiabetes_predictor.json\n",
      "\t../midterm/Untitled.ipynb\n",
      "\t../midterm/Untitled1.ipynb\n",
      "\t../midterm/Untitled2.ipynb\n",
      "\t../week02/\n",
      "\t../week03/Untitled.ipynb\n",
      "\t../week03/Untitled1.ipynb\n",
      "\t../week04/Untitled.ipynb\n",
      "\t../week04/Untitled1.ipynb\n",
      "\t../week04/Untitled2.ipynb\n",
      "\t../week04/Untitled3.ipynb\n",
      "\t../week05/Untitled.ipynb\n",
      "\t../week06/week06_assignment_2-Copy1.ipynb\n",
      "\t../week08/Untitled.ipynb\n",
      "\t../week09/HMP 5200_MO Data.xlsx\n",
      "\t../week09/HospitalCosts.xlsx\n",
      "\t../week09/Untitled.ipynb\n",
      "\t../week09/Untitled1.ipynb\n",
      "\t../week09/owid-covid-data.csv\n",
      "\t../week09/owid.covid.xlsx\n",
      "\t../week10/Untitled.ipynb\n",
      "\t../week10/complications_all.csv\n",
      "\t../week10/week10_assignment_1.ipynb\n",
      "\t../week11/week11_assignment_2.ipynb\n",
      "\t../week12/heart_failure_dataset.csv\n",
      "\t../week12/owid-covid-data.csv\n",
      "\t../week12/week12_solution.ipynb\n",
      "\n",
      "nothing added to commit but untracked files present\n"
     ]
    },
    {
     "name": "stderr",
     "output_type": "stream",
     "text": [
      "Everything up-to-date\n"
     ]
    }
   ],
   "source": [
    "%%bash\n",
    "git pull\n",
    "git add Final.ipynb\n",
    "git commit -a -m \"Submitting the Final\"\n",
    "git push"
   ]
  },
  {
   "cell_type": "code",
   "execution_count": null,
   "metadata": {},
   "outputs": [],
   "source": []
  }
 ],
 "metadata": {
  "kernelspec": {
   "display_name": "Python 3",
   "language": "python",
   "name": "python3"
  },
  "language_info": {
   "codemirror_mode": {
    "name": "ipython",
    "version": 3
   },
   "file_extension": ".py",
   "mimetype": "text/x-python",
   "name": "python",
   "nbconvert_exporter": "python",
   "pygments_lexer": "ipython3",
   "version": "3.6.7"
  }
 },
 "nbformat": 4,
 "nbformat_minor": 4
}
