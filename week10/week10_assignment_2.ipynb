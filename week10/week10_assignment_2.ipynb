{
 "cells": [
  {
   "cell_type": "markdown",
   "metadata": {},
   "source": [
    "# Week 10 Assignment\n",
    "\n",
    "Because I was unable to conduct our workshop this week, I'm keeping the assignment light as well.  Below you'll find just two steps for this week: one programming exercise and then a planning activity for your final project.\n",
    "\n",
    "For clarification, the \"final project\" I've been referring to is your \"final.\"  It is not a project in addition to a final exam.  They're one-in-the-same.\n",
    "\n",
    "Please do the programming exercise and verify that your code works using the tests, then think about your final project and fill out the questions in the second part.\n",
    "\n",
    "---\n",
    "---"
   ]
  },
  {
   "cell_type": "markdown",
   "metadata": {},
   "source": [
    "### 47.1: Filtering and summarizing data\n",
    "\n",
    "For this work, you'll find a data file in `/data/complications_all.csv`.\n",
    "\n",
    "Read in the data file and create a variable called `mo_hospitals` that contains a data frame from the `complications_all.csv` file, filtered down to only contain those hospitals from the state of Missouri (MO).\n",
    "\n",
    "Then aggregate that data by hospital into a variable named `mo_summary`.  There are some key fields that we want to summarize:\n",
    "* We want to know the earliest date that each hospital was participating in any program\n",
    "* We want to know the latest date that each hospital stopped participating in any program\n",
    "* We want to know the total number of patients in the denominators of these programs\n",
    "\n",
    "Some things to note:\n",
    "* You will need to convert the `Start Date` and `End Date` to actual datetime fields\n",
    "* You will need to clean up and convert the `Denominator` field to just be numeric - the rule that you should use it to simply remove any records where the `Denominator` is `'Not Available'`\n",
    "\n",
    "\n",
    "The final result of this step should be a new data frame called `mo_summary` that contains one row for each hospital and contains the min start date, max end date, and total denominator.  Use the names `start_date`, `end_date`, and `number` for those columns in `mo_summary`.\n",
    "\n",
    "\n",
    "You do not need to create your code in the form of a function, just make sure your variable names match what I've described above so the tests work."
   ]
  },
  {
   "cell_type": "code",
   "execution_count": 5,
   "metadata": {},
   "outputs": [],
   "source": [
    "import pandas as pd\n",
    "import numpy as np\n",
    "# This is just to show you the name to use for the variable you need to create for this step to pass.\n",
    "\n",
    "data = pd.read_csv('/data/complications_all.csv')"
   ]
  },
  {
   "cell_type": "code",
   "execution_count": 6,
   "metadata": {},
   "outputs": [],
   "source": [
    "filter = data['State'] == 'MO'\n",
    "filter.value_counts()\n",
    "mo_hospitals = data[filter]"
   ]
  },
  {
   "cell_type": "code",
   "execution_count": 7,
   "metadata": {},
   "outputs": [],
   "source": [
    "# These assertions will help make sure that you're on the right track.\n",
    "assert(mo_hospitals['State'].unique() == ['MO'])\n",
    "assert(mo_hospitals.shape == (2133,18))"
   ]
  },
  {
   "cell_type": "code",
   "execution_count": 8,
   "metadata": {},
   "outputs": [
    {
     "name": "stderr",
     "output_type": "stream",
     "text": [
      "/opt/tljh/user/lib/python3.6/site-packages/ipykernel_launcher.py:1: SettingWithCopyWarning: \n",
      "A value is trying to be set on a copy of a slice from a DataFrame.\n",
      "Try using .loc[row_indexer,col_indexer] = value instead\n",
      "\n",
      "See the caveats in the documentation: https://pandas.pydata.org/pandas-docs/stable/user_guide/indexing.html#returning-a-view-versus-a-copy\n",
      "  \"\"\"Entry point for launching an IPython kernel.\n",
      "/opt/tljh/user/lib/python3.6/site-packages/ipykernel_launcher.py:2: SettingWithCopyWarning: \n",
      "A value is trying to be set on a copy of a slice from a DataFrame.\n",
      "Try using .loc[row_indexer,col_indexer] = value instead\n",
      "\n",
      "See the caveats in the documentation: https://pandas.pydata.org/pandas-docs/stable/user_guide/indexing.html#returning-a-view-versus-a-copy\n",
      "  \n"
     ]
    },
    {
     "data": {
      "text/html": [
       "<div>\n",
       "<style scoped>\n",
       "    .dataframe tbody tr th:only-of-type {\n",
       "        vertical-align: middle;\n",
       "    }\n",
       "\n",
       "    .dataframe tbody tr th {\n",
       "        vertical-align: top;\n",
       "    }\n",
       "\n",
       "    .dataframe thead tr th {\n",
       "        text-align: left;\n",
       "    }\n",
       "\n",
       "    .dataframe thead tr:last-of-type th {\n",
       "        text-align: right;\n",
       "    }\n",
       "</style>\n",
       "<table border=\"1\" class=\"dataframe\">\n",
       "  <thead>\n",
       "    <tr>\n",
       "      <th></th>\n",
       "      <th>Start Date</th>\n",
       "      <th>End Date</th>\n",
       "      <th>Denominator</th>\n",
       "    </tr>\n",
       "    <tr>\n",
       "      <th></th>\n",
       "      <th>min</th>\n",
       "      <th>max</th>\n",
       "      <th>sum</th>\n",
       "    </tr>\n",
       "    <tr>\n",
       "      <th>Facility Name</th>\n",
       "      <th></th>\n",
       "      <th></th>\n",
       "      <th></th>\n",
       "    </tr>\n",
       "  </thead>\n",
       "  <tbody>\n",
       "    <tr>\n",
       "      <th>BARNES JEWISH HOSPITAL</th>\n",
       "      <td>2015-04-01</td>\n",
       "      <td>2018-06-30</td>\n",
       "      <td>131313</td>\n",
       "    </tr>\n",
       "    <tr>\n",
       "      <th>BARNES-JEWISH ST PETERS HOSPITAL</th>\n",
       "      <td>2015-04-01</td>\n",
       "      <td>2018-06-30</td>\n",
       "      <td>15668</td>\n",
       "    </tr>\n",
       "    <tr>\n",
       "      <th>BARNES-JEWISH WEST COUNTY HOSPITAL</th>\n",
       "      <td>2015-04-01</td>\n",
       "      <td>2018-06-30</td>\n",
       "      <td>9622</td>\n",
       "    </tr>\n",
       "    <tr>\n",
       "      <th>BATES COUNTY MEMORIAL HOSPITAL</th>\n",
       "      <td>2015-07-01</td>\n",
       "      <td>2018-06-30</td>\n",
       "      <td>3117</td>\n",
       "    </tr>\n",
       "    <tr>\n",
       "      <th>BELTON REGIONAL MEDICAL CENTER</th>\n",
       "      <td>2015-04-01</td>\n",
       "      <td>2018-06-30</td>\n",
       "      <td>9270</td>\n",
       "    </tr>\n",
       "    <tr>\n",
       "      <th>...</th>\n",
       "      <td>...</td>\n",
       "      <td>...</td>\n",
       "      <td>...</td>\n",
       "    </tr>\n",
       "    <tr>\n",
       "      <th>TRUMAN MEDICAL CENTER LAKEWOOD</th>\n",
       "      <td>2015-04-01</td>\n",
       "      <td>2018-06-30</td>\n",
       "      <td>4297</td>\n",
       "    </tr>\n",
       "    <tr>\n",
       "      <th>UNIVERSITY OF MISSOURI HEALTH CARE</th>\n",
       "      <td>2015-04-01</td>\n",
       "      <td>2018-06-30</td>\n",
       "      <td>56493</td>\n",
       "    </tr>\n",
       "    <tr>\n",
       "      <th>WASHINGTON COUNTY MEMORIAL HOSPITAL</th>\n",
       "      <td>2015-07-01</td>\n",
       "      <td>2018-06-30</td>\n",
       "      <td>220</td>\n",
       "    </tr>\n",
       "    <tr>\n",
       "      <th>WESTERN MISSOURI MEDICAL CENTER</th>\n",
       "      <td>2015-04-01</td>\n",
       "      <td>2018-06-30</td>\n",
       "      <td>7254</td>\n",
       "    </tr>\n",
       "    <tr>\n",
       "      <th>WRIGHT MEMORIAL HOSPITAL</th>\n",
       "      <td>2015-07-01</td>\n",
       "      <td>2018-06-30</td>\n",
       "      <td>198</td>\n",
       "    </tr>\n",
       "  </tbody>\n",
       "</table>\n",
       "<p>108 rows × 3 columns</p>\n",
       "</div>"
      ],
      "text/plain": [
       "                                    Start Date   End Date Denominator\n",
       "                                           min        max         sum\n",
       "Facility Name                                                        \n",
       "BARNES JEWISH HOSPITAL              2015-04-01 2018-06-30      131313\n",
       "BARNES-JEWISH ST PETERS HOSPITAL    2015-04-01 2018-06-30       15668\n",
       "BARNES-JEWISH WEST COUNTY HOSPITAL  2015-04-01 2018-06-30        9622\n",
       "BATES COUNTY MEMORIAL HOSPITAL      2015-07-01 2018-06-30        3117\n",
       "BELTON REGIONAL MEDICAL CENTER      2015-04-01 2018-06-30        9270\n",
       "...                                        ...        ...         ...\n",
       "TRUMAN MEDICAL CENTER LAKEWOOD      2015-04-01 2018-06-30        4297\n",
       "UNIVERSITY OF MISSOURI HEALTH CARE  2015-04-01 2018-06-30       56493\n",
       "WASHINGTON COUNTY MEMORIAL HOSPITAL 2015-07-01 2018-06-30         220\n",
       "WESTERN MISSOURI MEDICAL CENTER     2015-04-01 2018-06-30        7254\n",
       "WRIGHT MEMORIAL HOSPITAL            2015-07-01 2018-06-30         198\n",
       "\n",
       "[108 rows x 3 columns]"
      ]
     },
     "execution_count": 8,
     "metadata": {},
     "output_type": "execute_result"
    }
   ],
   "source": [
    "mo_hospitals['Start Date'] = pd.to_datetime(mo_hospitals['Start Date'])\n",
    "mo_hospitals['End Date'] = pd.to_datetime(mo_hospitals['End Date'])\n",
    "\n",
    "NAFilter = mo_hospitals['Denominator'] == 'Not Available'\n",
    "mo_hospitals = mo_hospitals[~NAFilter]\n",
    "\n",
    "\n",
    "mo_hospitals['Denominator'] = mo_hospitals['Denominator'].astype(int)\n",
    "\n",
    "mo_summary = mo_hospitals.groupby(['Facility Name']).aggregate({'Start Date': ['min'], 'End Date': ['max'], 'Denominator': ['sum']})\n",
    "mo_summary\n",
    "\n"
   ]
  },
  {
   "cell_type": "code",
   "execution_count": null,
   "metadata": {},
   "outputs": [],
   "source": []
  },
  {
   "cell_type": "code",
   "execution_count": 9,
   "metadata": {},
   "outputs": [
    {
     "data": {
      "text/html": [
       "<div>\n",
       "<style scoped>\n",
       "    .dataframe tbody tr th:only-of-type {\n",
       "        vertical-align: middle;\n",
       "    }\n",
       "\n",
       "    .dataframe tbody tr th {\n",
       "        vertical-align: top;\n",
       "    }\n",
       "\n",
       "    .dataframe thead th {\n",
       "        text-align: right;\n",
       "    }\n",
       "</style>\n",
       "<table border=\"1\" class=\"dataframe\">\n",
       "  <thead>\n",
       "    <tr style=\"text-align: right;\">\n",
       "      <th></th>\n",
       "      <th>start_date</th>\n",
       "      <th>end_date</th>\n",
       "      <th>number</th>\n",
       "    </tr>\n",
       "    <tr>\n",
       "      <th>Facility Name</th>\n",
       "      <th></th>\n",
       "      <th></th>\n",
       "      <th></th>\n",
       "    </tr>\n",
       "  </thead>\n",
       "  <tbody>\n",
       "    <tr>\n",
       "      <th>BARNES JEWISH HOSPITAL</th>\n",
       "      <td>2015-04-01</td>\n",
       "      <td>2018-06-30</td>\n",
       "      <td>131313</td>\n",
       "    </tr>\n",
       "    <tr>\n",
       "      <th>BARNES-JEWISH ST PETERS HOSPITAL</th>\n",
       "      <td>2015-04-01</td>\n",
       "      <td>2018-06-30</td>\n",
       "      <td>15668</td>\n",
       "    </tr>\n",
       "    <tr>\n",
       "      <th>BARNES-JEWISH WEST COUNTY HOSPITAL</th>\n",
       "      <td>2015-04-01</td>\n",
       "      <td>2018-06-30</td>\n",
       "      <td>9622</td>\n",
       "    </tr>\n",
       "    <tr>\n",
       "      <th>BATES COUNTY MEMORIAL HOSPITAL</th>\n",
       "      <td>2015-07-01</td>\n",
       "      <td>2018-06-30</td>\n",
       "      <td>3117</td>\n",
       "    </tr>\n",
       "    <tr>\n",
       "      <th>BELTON REGIONAL MEDICAL CENTER</th>\n",
       "      <td>2015-04-01</td>\n",
       "      <td>2018-06-30</td>\n",
       "      <td>9270</td>\n",
       "    </tr>\n",
       "    <tr>\n",
       "      <th>...</th>\n",
       "      <td>...</td>\n",
       "      <td>...</td>\n",
       "      <td>...</td>\n",
       "    </tr>\n",
       "    <tr>\n",
       "      <th>TRUMAN MEDICAL CENTER LAKEWOOD</th>\n",
       "      <td>2015-04-01</td>\n",
       "      <td>2018-06-30</td>\n",
       "      <td>4297</td>\n",
       "    </tr>\n",
       "    <tr>\n",
       "      <th>UNIVERSITY OF MISSOURI HEALTH CARE</th>\n",
       "      <td>2015-04-01</td>\n",
       "      <td>2018-06-30</td>\n",
       "      <td>56493</td>\n",
       "    </tr>\n",
       "    <tr>\n",
       "      <th>WASHINGTON COUNTY MEMORIAL HOSPITAL</th>\n",
       "      <td>2015-07-01</td>\n",
       "      <td>2018-06-30</td>\n",
       "      <td>220</td>\n",
       "    </tr>\n",
       "    <tr>\n",
       "      <th>WESTERN MISSOURI MEDICAL CENTER</th>\n",
       "      <td>2015-04-01</td>\n",
       "      <td>2018-06-30</td>\n",
       "      <td>7254</td>\n",
       "    </tr>\n",
       "    <tr>\n",
       "      <th>WRIGHT MEMORIAL HOSPITAL</th>\n",
       "      <td>2015-07-01</td>\n",
       "      <td>2018-06-30</td>\n",
       "      <td>198</td>\n",
       "    </tr>\n",
       "  </tbody>\n",
       "</table>\n",
       "<p>108 rows × 3 columns</p>\n",
       "</div>"
      ],
      "text/plain": [
       "                                    start_date   end_date  number\n",
       "Facility Name                                                    \n",
       "BARNES JEWISH HOSPITAL              2015-04-01 2018-06-30  131313\n",
       "BARNES-JEWISH ST PETERS HOSPITAL    2015-04-01 2018-06-30   15668\n",
       "BARNES-JEWISH WEST COUNTY HOSPITAL  2015-04-01 2018-06-30    9622\n",
       "BATES COUNTY MEMORIAL HOSPITAL      2015-07-01 2018-06-30    3117\n",
       "BELTON REGIONAL MEDICAL CENTER      2015-04-01 2018-06-30    9270\n",
       "...                                        ...        ...     ...\n",
       "TRUMAN MEDICAL CENTER LAKEWOOD      2015-04-01 2018-06-30    4297\n",
       "UNIVERSITY OF MISSOURI HEALTH CARE  2015-04-01 2018-06-30   56493\n",
       "WASHINGTON COUNTY MEMORIAL HOSPITAL 2015-07-01 2018-06-30     220\n",
       "WESTERN MISSOURI MEDICAL CENTER     2015-04-01 2018-06-30    7254\n",
       "WRIGHT MEMORIAL HOSPITAL            2015-07-01 2018-06-30     198\n",
       "\n",
       "[108 rows x 3 columns]"
      ]
     },
     "execution_count": 9,
     "metadata": {},
     "output_type": "execute_result"
    }
   ],
   "source": [
    "NewLabels = pd.Index([\"start_date\", \"end_date\",\"number\"])\n",
    "mo_summary.columns = NewLabels\n",
    "\n",
    "mo_summary\n",
    "\n",
    "## I had to google how to change column names from how they are above to the data frame below. I read there is a internal pandas funtion called pd.Index \n",
    "## that will help rename the objects from \"multi layer\" to \"single\" layer and get \"start_date\", \"end_date\",\"number\" needed. Thats how I was able\n",
    "## to make changes to column names to get the to the final answer."
   ]
  },
  {
   "cell_type": "code",
   "execution_count": 10,
   "metadata": {},
   "outputs": [],
   "source": [
    "assert(mo_summary['number'].sum() == 1766908)\n",
    "assert(mo_summary['start_date'].min() == pd.Timestamp(2015,4,1))\n",
    "assert(mo_summary['end_date'].max() == pd.Timestamp(2018,6,30))\n",
    "assert(mo_summary.shape == (108,3))\n",
    "assert(mo_summary.loc['BARNES JEWISH HOSPITAL'].number == 131313)\n",
    "assert(mo_summary.loc['BOONE HOSPITAL CENTER'].number == 63099)"
   ]
  },
  {
   "cell_type": "markdown",
   "metadata": {},
   "source": [
    "---\n",
    "\n",
    "### 47.2 Planning your final project\n",
    "\n",
    "You should be thinking about the things we've been learning and how you can apply them to your final project.  Use the rubric to help guid your thinking and then answer the questions below.  This is meant as a guide to help you think through what you will do."
   ]
  },
  {
   "cell_type": "markdown",
   "metadata": {},
   "source": [
    "#### A) Data Access\n",
    "\n",
    "Your project should include data from at least three distinct types of sources.  For example: AWS S3, Relational Databases, Internet, Web Services, local files.  List what data sources you're planning to use."
   ]
  },
  {
   "cell_type": "markdown",
   "metadata": {},
   "source": [
    "Relational Databases, Internet or possibly local healthcare files from my economics and finance classes."
   ]
  },
  {
   "cell_type": "markdown",
   "metadata": {},
   "source": [
    "#### B. Data Formats\n",
    "\n",
    "Your project should include data that comes in different file formats.  For example: HL7, EDI, HTML, CSV, Excel, JSON, XML.  List what data formats you're planning to use."
   ]
  },
  {
   "cell_type": "markdown",
   "metadata": {},
   "source": [
    "CSV and Excel"
   ]
  },
  {
   "cell_type": "markdown",
   "metadata": {},
   "source": [
    "#### C. Objective\n",
    "\n",
    "What purpose would your project serve in a real work setting?  Take a couple of paragraphs to write down why this is an interesting product."
   ]
  },
  {
   "cell_type": "markdown",
   "metadata": {},
   "source": [
    "I do not have an exact idea of what data I will be working on. However, I would like to work on some cardiovascular data possibly and see how that data can help us see trends and possibly predict a heart failure or worsening health outcomes. This data analysis can provide useful visualizations that can be used to help create a possible ML model. The data I have analyzed can become training data and possibly a self-predicting model that can analyze patient health records and identify patietns whom physicans can keep a closer eye on. This all starts from good data cleaning and understanding. "
   ]
  },
  {
   "cell_type": "markdown",
   "metadata": {},
   "source": [
    "---\n",
    "\n",
    "## Submitting Your Work\n",
    "\n",
    "In order to submit your work, you'll need to use the `git` command line program to **add** your homework file (this file) to your local repository, **commit** your changes to your local repository, and then **push** those changes up to github.com.  From there, I'll be able to **pull** the changes down and do my grading.  I'll provide some feedback, **commit** and **push** my comments back to you.  Next week, I'll show you how to **pull** down my comments.\n",
    "\n",
    "To run through everything one last time and submit your work:\n",
    "1. Use the `Kernel` -> `Restart Kernel and Run All Cells` menu option to run everything from top to bottom and stop here.\n",
    "2. Save this note with Ctrl-S (or Cmd-S)\n",
    "2. Skip down to the last command cell (the one starting with `%%bash`) and run that cell.\n",
    "\n",
    "If anything fails along the way with this submission part of the process, let me know.  I'll help you troubleshoort."
   ]
  },
  {
   "cell_type": "code",
   "execution_count": null,
   "metadata": {},
   "outputs": [],
   "source": [
    "assert False, \"DO NOT REMOVE THIS LINE\""
   ]
  },
  {
   "cell_type": "markdown",
   "metadata": {},
   "source": [
    "---"
   ]
  },
  {
   "cell_type": "code",
   "execution_count": 332,
   "metadata": {},
   "outputs": [
    {
     "name": "stdout",
     "output_type": "stream",
     "text": [
      "Already up to date.\n",
      "On branch main\n",
      "Your branch is up to date with 'origin/main'.\n",
      "\n",
      "Untracked files:\n",
      "\t../midterm/Untitled.ipynb\n",
      "\t../midterm/Untitled1.ipynb\n",
      "\t../midterm/Untitled2.ipynb\n",
      "\t../week02/\n",
      "\t../week03/Untitled.ipynb\n",
      "\t../week03/Untitled1.ipynb\n",
      "\t../week04/Untitled.ipynb\n",
      "\t../week04/Untitled1.ipynb\n",
      "\t../week04/Untitled2.ipynb\n",
      "\t../week04/Untitled3.ipynb\n",
      "\t../week05/Untitled.ipynb\n",
      "\t../week06/week06_assignment_2-Copy1.ipynb\n",
      "\t../week08/Untitled.ipynb\n",
      "\t../week09/HMP 5200_MO Data.xlsx\n",
      "\t../week09/HospitalCosts.xlsx\n",
      "\t../week09/Untitled.ipynb\n",
      "\t../week09/Untitled1.ipynb\n",
      "\t../week09/owid-covid-data.csv\n",
      "\t../week09/owid.covid.xlsx\n",
      "\tUntitled.ipynb\n",
      "\tcomplications_all.csv\n",
      "\tweek10_assignment_1.ipynb\n",
      "\n",
      "nothing added to commit but untracked files present\n"
     ]
    },
    {
     "name": "stderr",
     "output_type": "stream",
     "text": [
      "Everything up-to-date\n"
     ]
    }
   ],
   "source": [
    "%%bash\n",
    "git pull\n",
    "git add week10_assignment_2.ipynb\n",
    "git commit -a -m \"Submitting the week 10 programming assignment\"\n",
    "git push"
   ]
  },
  {
   "cell_type": "markdown",
   "metadata": {},
   "source": [
    "\n",
    "---\n",
    "\n",
    "If the message above says something like _Submitting the week 8 programming assignment_ or _Everything is up to date_, then your work was submitted correctly."
   ]
  },
  {
   "cell_type": "code",
   "execution_count": null,
   "metadata": {},
   "outputs": [],
   "source": []
  }
 ],
 "metadata": {
  "kernelspec": {
   "display_name": "Python 3",
   "language": "python",
   "name": "python3"
  },
  "language_info": {
   "codemirror_mode": {
    "name": "ipython",
    "version": 3
   },
   "file_extension": ".py",
   "mimetype": "text/x-python",
   "name": "python",
   "nbconvert_exporter": "python",
   "pygments_lexer": "ipython3",
   "version": "3.6.7"
  }
 },
 "nbformat": 4,
 "nbformat_minor": 4
}
