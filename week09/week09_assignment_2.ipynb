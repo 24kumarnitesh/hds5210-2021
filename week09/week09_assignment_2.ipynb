{
 "cells": [
  {
   "cell_type": "markdown",
   "metadata": {},
   "source": [
    "# Week 9 Assignment\n",
    "\n",
    "_MkKinney 6.1_\n",
    "\n",
    "The work this week has involved using Pandas to load, manipulate, and visualize data.  For this exercise, we're going to be working with some of the price transparency data from [Baptist Health Medical Center](https://www.baptist-health.com/hospital-charges-and-negotiated-rates/) in Little Rock, AR. We've chosen them because their data is relatively easy to reach with Pandas and has some interesting insights.\n",
    "\n",
    "---\n",
    "---"
   ]
  },
  {
   "cell_type": "markdown",
   "metadata": {},
   "source": [
    "### 41.1 Loading and viewing the data\n",
    "\n",
    "There are four files in the `/data` directory related to Baptist Health:\n",
    "* bhmclr_cpt.xlsx\n",
    "* bhmclr_drg.xlsx\n",
    "* bhmclr_med.xlsx\n",
    "* bhmclr_proc.xlsx\n",
    "\n",
    "All of these files have the same format, so you can load and process them all the same way, but the subsets of data in each are distinct.\n",
    "\n",
    "For this first step, we're going to load the DRG data and inspect it using Pandas.  If you download this file and open it in Excel, there will be a few things you notice:\n",
    "1. The workbook has two sheets: \"Pivot\" and \"Sheet1\" - \"Sheet1\" is the one we want\n",
    "2. \"Sheet1\" has three rows before we get to the actual table header - we'll want to skip those rows\n",
    "3. Also, I've filtered the data to just those DRGs where the cash price is less than 20,000 for demo purposes"
   ]
  },
  {
   "cell_type": "code",
   "execution_count": 10,
   "metadata": {},
   "outputs": [],
   "source": [
    "import pandas as pd\n",
    "import matplotlib.pyplot as plt\n",
    "\n",
    "data = pd.read_excel('/data/bhmclr_drg.xlsx', sheet_name='Sheet1', skiprows=3)"
   ]
  },
  {
   "cell_type": "code",
   "execution_count": 11,
   "metadata": {},
   "outputs": [
    {
     "data": {
      "text/plain": [
       "(3864, 19)"
      ]
     },
     "execution_count": 11,
     "metadata": {},
     "output_type": "execute_result"
    }
   ],
   "source": [
    "data.shape"
   ]
  },
  {
   "cell_type": "code",
   "execution_count": 12,
   "metadata": {},
   "outputs": [
    {
     "data": {
      "text/plain": [
       "Index(['Location', 'Code Type', 'Code', 'NDC', 'Rev Code', 'Procedure',\n",
       "       'Procedure Description', 'Quantity', 'Payer', 'IP Charge',\n",
       "       'IP Expected Reimbursement', 'MIN_IP_XR', 'MAX_IP_XR', 'IP Cash Price',\n",
       "       'OP Charge', 'OP Expected Reimbursement', 'MIN_OP_XR', 'MAX_OP_XR',\n",
       "       'OP Cash Price'],\n",
       "      dtype='object')"
      ]
     },
     "execution_count": 12,
     "metadata": {},
     "output_type": "execute_result"
    }
   ],
   "source": [
    "data.columns"
   ]
  },
  {
   "cell_type": "code",
   "execution_count": 13,
   "metadata": {},
   "outputs": [
    {
     "data": {
      "text/html": [
       "<div>\n",
       "<style scoped>\n",
       "    .dataframe tbody tr th:only-of-type {\n",
       "        vertical-align: middle;\n",
       "    }\n",
       "\n",
       "    .dataframe tbody tr th {\n",
       "        vertical-align: top;\n",
       "    }\n",
       "\n",
       "    .dataframe thead th {\n",
       "        text-align: right;\n",
       "    }\n",
       "</style>\n",
       "<table border=\"1\" class=\"dataframe\">\n",
       "  <thead>\n",
       "    <tr style=\"text-align: right;\">\n",
       "      <th></th>\n",
       "      <th>Location</th>\n",
       "      <th>Code Type</th>\n",
       "      <th>Code</th>\n",
       "      <th>NDC</th>\n",
       "      <th>Rev Code</th>\n",
       "      <th>Procedure</th>\n",
       "      <th>Procedure Description</th>\n",
       "      <th>Quantity</th>\n",
       "      <th>Payer</th>\n",
       "      <th>IP Charge</th>\n",
       "      <th>IP Expected Reimbursement</th>\n",
       "      <th>MIN_IP_XR</th>\n",
       "      <th>MAX_IP_XR</th>\n",
       "      <th>IP Cash Price</th>\n",
       "      <th>OP Charge</th>\n",
       "      <th>OP Expected Reimbursement</th>\n",
       "      <th>MIN_OP_XR</th>\n",
       "      <th>MAX_OP_XR</th>\n",
       "      <th>OP Cash Price</th>\n",
       "    </tr>\n",
       "  </thead>\n",
       "  <tbody>\n",
       "    <tr>\n",
       "      <th>0</th>\n",
       "      <td>BHMC LITTLE ROCK</td>\n",
       "      <td>DRG</td>\n",
       "      <td>MS-DRG V38 (FY 2021) 013</td>\n",
       "      <td>NaN</td>\n",
       "      <td>NaN</td>\n",
       "      <td>MS013</td>\n",
       "      <td>Tracheostomy For Face, Mouth And Neck Diagnose...</td>\n",
       "      <td>1</td>\n",
       "      <td>AETNA [65000]</td>\n",
       "      <td>59006.00</td>\n",
       "      <td>31705.95</td>\n",
       "      <td>11936.11</td>\n",
       "      <td>31705.95</td>\n",
       "      <td>15341.56</td>\n",
       "      <td>0</td>\n",
       "      <td>NaN</td>\n",
       "      <td>NaN</td>\n",
       "      <td>NaN</td>\n",
       "      <td>NaN</td>\n",
       "    </tr>\n",
       "    <tr>\n",
       "      <th>1</th>\n",
       "      <td>BHMC LITTLE ROCK</td>\n",
       "      <td>DRG</td>\n",
       "      <td>MS-DRG V38 (FY 2021) 022</td>\n",
       "      <td>NaN</td>\n",
       "      <td>NaN</td>\n",
       "      <td>MS022</td>\n",
       "      <td>Intracranial Vascular Procedures With Principa...</td>\n",
       "      <td>1</td>\n",
       "      <td>AETNA [65000]</td>\n",
       "      <td>61399.00</td>\n",
       "      <td>61399.00</td>\n",
       "      <td>15963.74</td>\n",
       "      <td>61399.00</td>\n",
       "      <td>15963.74</td>\n",
       "      <td>0</td>\n",
       "      <td>NaN</td>\n",
       "      <td>NaN</td>\n",
       "      <td>NaN</td>\n",
       "      <td>NaN</td>\n",
       "    </tr>\n",
       "    <tr>\n",
       "      <th>2</th>\n",
       "      <td>BHMC LITTLE ROCK</td>\n",
       "      <td>DRG</td>\n",
       "      <td>MS-DRG V38 (FY 2021) 024</td>\n",
       "      <td>NaN</td>\n",
       "      <td>NaN</td>\n",
       "      <td>MS024</td>\n",
       "      <td>Craniotomy With Major Device Implant Or Acute ...</td>\n",
       "      <td>1</td>\n",
       "      <td>AETNA [65000]</td>\n",
       "      <td>72401.56</td>\n",
       "      <td>NaN</td>\n",
       "      <td>7770.00</td>\n",
       "      <td>23719.14</td>\n",
       "      <td>18824.41</td>\n",
       "      <td>0</td>\n",
       "      <td>NaN</td>\n",
       "      <td>NaN</td>\n",
       "      <td>NaN</td>\n",
       "      <td>NaN</td>\n",
       "    </tr>\n",
       "    <tr>\n",
       "      <th>3</th>\n",
       "      <td>BHMC LITTLE ROCK</td>\n",
       "      <td>DRG</td>\n",
       "      <td>MS-DRG V38 (FY 2021) 025</td>\n",
       "      <td>NaN</td>\n",
       "      <td>NaN</td>\n",
       "      <td>MS025</td>\n",
       "      <td>Craniotomy And Endovascular Intracranial Proce...</td>\n",
       "      <td>1</td>\n",
       "      <td>AETNA [65000]</td>\n",
       "      <td>76565.21</td>\n",
       "      <td>57449.30</td>\n",
       "      <td>7770.00</td>\n",
       "      <td>57449.30</td>\n",
       "      <td>19906.95</td>\n",
       "      <td>0</td>\n",
       "      <td>NaN</td>\n",
       "      <td>NaN</td>\n",
       "      <td>NaN</td>\n",
       "      <td>NaN</td>\n",
       "    </tr>\n",
       "    <tr>\n",
       "      <th>4</th>\n",
       "      <td>BHMC LITTLE ROCK</td>\n",
       "      <td>DRG</td>\n",
       "      <td>MS-DRG V38 (FY 2021) 026</td>\n",
       "      <td>NaN</td>\n",
       "      <td>NaN</td>\n",
       "      <td>MS026</td>\n",
       "      <td>Craniotomy And Endovascular Intracranial Proce...</td>\n",
       "      <td>1</td>\n",
       "      <td>AETNA [65000]</td>\n",
       "      <td>64748.06</td>\n",
       "      <td>29999.01</td>\n",
       "      <td>2913.75</td>\n",
       "      <td>29999.01</td>\n",
       "      <td>16834.50</td>\n",
       "      <td>0</td>\n",
       "      <td>NaN</td>\n",
       "      <td>NaN</td>\n",
       "      <td>NaN</td>\n",
       "      <td>NaN</td>\n",
       "    </tr>\n",
       "  </tbody>\n",
       "</table>\n",
       "</div>"
      ],
      "text/plain": [
       "           Location Code Type                      Code  NDC  Rev Code  \\\n",
       "0  BHMC LITTLE ROCK       DRG  MS-DRG V38 (FY 2021) 013  NaN       NaN   \n",
       "1  BHMC LITTLE ROCK       DRG  MS-DRG V38 (FY 2021) 022  NaN       NaN   \n",
       "2  BHMC LITTLE ROCK       DRG  MS-DRG V38 (FY 2021) 024  NaN       NaN   \n",
       "3  BHMC LITTLE ROCK       DRG  MS-DRG V38 (FY 2021) 025  NaN       NaN   \n",
       "4  BHMC LITTLE ROCK       DRG  MS-DRG V38 (FY 2021) 026  NaN       NaN   \n",
       "\n",
       "  Procedure                              Procedure Description  Quantity  \\\n",
       "0     MS013  Tracheostomy For Face, Mouth And Neck Diagnose...         1   \n",
       "1     MS022  Intracranial Vascular Procedures With Principa...         1   \n",
       "2     MS024  Craniotomy With Major Device Implant Or Acute ...         1   \n",
       "3     MS025  Craniotomy And Endovascular Intracranial Proce...         1   \n",
       "4     MS026  Craniotomy And Endovascular Intracranial Proce...         1   \n",
       "\n",
       "           Payer  IP Charge  IP Expected Reimbursement  MIN_IP_XR  MAX_IP_XR  \\\n",
       "0  AETNA [65000]   59006.00                   31705.95   11936.11   31705.95   \n",
       "1  AETNA [65000]   61399.00                   61399.00   15963.74   61399.00   \n",
       "2  AETNA [65000]   72401.56                        NaN    7770.00   23719.14   \n",
       "3  AETNA [65000]   76565.21                   57449.30    7770.00   57449.30   \n",
       "4  AETNA [65000]   64748.06                   29999.01    2913.75   29999.01   \n",
       "\n",
       "   IP Cash Price  OP Charge  OP Expected Reimbursement  MIN_OP_XR  MAX_OP_XR  \\\n",
       "0       15341.56          0                        NaN        NaN        NaN   \n",
       "1       15963.74          0                        NaN        NaN        NaN   \n",
       "2       18824.41          0                        NaN        NaN        NaN   \n",
       "3       19906.95          0                        NaN        NaN        NaN   \n",
       "4       16834.50          0                        NaN        NaN        NaN   \n",
       "\n",
       "   OP Cash Price  \n",
       "0            NaN  \n",
       "1            NaN  \n",
       "2            NaN  \n",
       "3            NaN  \n",
       "4            NaN  "
      ]
     },
     "execution_count": 13,
     "metadata": {},
     "output_type": "execute_result"
    }
   ],
   "source": [
    "data.head()"
   ]
  },
  {
   "cell_type": "code",
   "execution_count": 14,
   "metadata": {},
   "outputs": [
    {
     "data": {
      "text/plain": [
       "array([[<matplotlib.axes._subplots.AxesSubplot object at 0x7faabd1cb978>,\n",
       "        <matplotlib.axes._subplots.AxesSubplot object at 0x7faabd086c18>]],\n",
       "      dtype=object)"
      ]
     },
     "execution_count": 14,
     "metadata": {},
     "output_type": "execute_result"
    },
    {
     "data": {
      "image/png": "[encoded data removed]",
      "text/plain": [
       "<Figure size 432x288 with 2 Axes>"
      ]
     },
     "metadata": {
      "needs_background": "light"
     },
     "output_type": "display_data"
    }
   ],
   "source": [
    "data[['IP Cash Price','IP Charge']].hist(bins=20, range=[0,40000])"
   ]
  },
  {
   "cell_type": "markdown",
   "metadata": {},
   "source": [
    "### Question:\n",
    "\n",
    "**What do you observe from the histograms above?**"
   ]
  },
  {
   "cell_type": "markdown",
   "metadata": {},
   "source": [
    "---\n",
    "\n",
    "### 41.2 Plotting a KDE instead\n",
    "\n",
    "Instead of a historgam, let's plot overlapping [KDEs](https://pandas.pydata.org/docs/reference/api/pandas.DataFrame.plot.kde.html)."
   ]
  },
  {
   "cell_type": "code",
   "execution_count": 15,
   "metadata": {},
   "outputs": [
    {
     "data": {
      "text/plain": [
       "(0.0, 40000.0)"
      ]
     },
     "execution_count": 15,
     "metadata": {},
     "output_type": "execute_result"
    },
    {
     "data": {
      "image/png": "[encoded data removed]",
      "text/plain": [
       "<Figure size 432x288 with 1 Axes>"
      ]
     },
     "metadata": {
      "needs_background": "light"
     },
     "output_type": "display_data"
    }
   ],
   "source": [
    "graph = data[['IP Cash Price','IP Charge','IP Expected Reimbursement']].plot.kde()\n",
    "graph.set_xlim(0, 40000)"
   ]
  },
  {
   "cell_type": "markdown",
   "metadata": {},
   "source": [
    "### Question:\n",
    "\n",
    "If I told you what these values represent, what conclusions could you draw about the pattern?\n",
    "* IP Cash Price is the amount you would pay on your own without using insurance\n",
    "* IP Charge is the maximum amount for which the hospital says it can submit a bill to an insurance company\n",
    "* IP Expected Reimbursement is the amount that the hospital believes it is contracted to receive in payment from an insurance company"
   ]
  },
  {
   "cell_type": "markdown",
   "metadata": {},
   "source": [
    "---\n",
    "\n",
    "### 41.3 Creating a new set of series\n",
    "\n",
    "In order to understand how this data varies across different payers, we have to create new data series that are based on the payer information.  In the data, we have a column called **Payer** that holds this information.\n",
    "\n",
    "We can use the Pandas [groupby()](https://pandas.pydata.org/docs/reference/api/pandas.DataFrame.groupby.html) function to create groupings based on Payer and then plot kde based on those groupings.  When [plotting a Pandas groupby result](https://pandas.pydata.org/pandas-docs/version/0.16.2/generated/pandas.core.groupby.DataFrameGroupBy.plot.html), the options are different than plotting a dataframe."
   ]
  },
  {
   "cell_type": "code",
   "execution_count": 16,
   "metadata": {},
   "outputs": [],
   "source": [
    "data = data['Payer'].value_counts()"
   ]
  },
  {
   "cell_type": "code",
   "execution_count": 17,
   "metadata": {},
   "outputs": [
    {
     "ename": "KeyError",
     "evalue": "'Payer'",
     "output_type": "error",
     "traceback": [
      "\u001b[0;31m---------------------------------------------------------------------------\u001b[0m",
      "\u001b[0;31mKeyError\u001b[0m                                  Traceback (most recent call last)",
      "\u001b[0;32m<ipython-input-17-db7c51ed30ad>\u001b[0m in \u001b[0;36m<module>\u001b[0;34m\u001b[0m\n\u001b[0;32m----> 1\u001b[0;31m \u001b[0mdata\u001b[0m\u001b[0;34m.\u001b[0m\u001b[0mgroupby\u001b[0m\u001b[0;34m(\u001b[0m\u001b[0;34m[\u001b[0m\u001b[0;34m'Payer'\u001b[0m\u001b[0;34m]\u001b[0m\u001b[0;34m)\u001b[0m\u001b[0;34m[\u001b[0m\u001b[0;34m'IP Expected Reimbursement'\u001b[0m\u001b[0;34m]\u001b[0m\u001b[0;34m.\u001b[0m\u001b[0mcount\u001b[0m\u001b[0;34m(\u001b[0m\u001b[0;34m)\u001b[0m\u001b[0;34m\u001b[0m\u001b[0;34m\u001b[0m\u001b[0m\n\u001b[0m",
      "\u001b[0;32m/opt/tljh/user/lib/python3.6/site-packages/pandas/core/series.py\u001b[0m in \u001b[0;36mgroupby\u001b[0;34m(self, by, axis, level, as_index, sort, group_keys, squeeze, observed, dropna)\u001b[0m\n\u001b[1;32m   1744\u001b[0m             \u001b[0msqueeze\u001b[0m\u001b[0;34m=\u001b[0m\u001b[0msqueeze\u001b[0m\u001b[0;34m,\u001b[0m\u001b[0;34m\u001b[0m\u001b[0;34m\u001b[0m\u001b[0m\n\u001b[1;32m   1745\u001b[0m             \u001b[0mobserved\u001b[0m\u001b[0;34m=\u001b[0m\u001b[0mobserved\u001b[0m\u001b[0;34m,\u001b[0m\u001b[0;34m\u001b[0m\u001b[0;34m\u001b[0m\u001b[0m\n\u001b[0;32m-> 1746\u001b[0;31m             \u001b[0mdropna\u001b[0m\u001b[0;34m=\u001b[0m\u001b[0mdropna\u001b[0m\u001b[0;34m,\u001b[0m\u001b[0;34m\u001b[0m\u001b[0;34m\u001b[0m\u001b[0m\n\u001b[0m\u001b[1;32m   1747\u001b[0m         )\n\u001b[1;32m   1748\u001b[0m \u001b[0;34m\u001b[0m\u001b[0m\n",
      "\u001b[0;32m/opt/tljh/user/lib/python3.6/site-packages/pandas/core/groupby/groupby.py\u001b[0m in \u001b[0;36m__init__\u001b[0;34m(self, obj, keys, axis, level, grouper, exclusions, selection, as_index, sort, group_keys, squeeze, observed, mutated, dropna)\u001b[0m\n\u001b[1;32m    531\u001b[0m                 \u001b[0mobserved\u001b[0m\u001b[0;34m=\u001b[0m\u001b[0mobserved\u001b[0m\u001b[0;34m,\u001b[0m\u001b[0;34m\u001b[0m\u001b[0;34m\u001b[0m\u001b[0m\n\u001b[1;32m    532\u001b[0m                 \u001b[0mmutated\u001b[0m\u001b[0;34m=\u001b[0m\u001b[0mself\u001b[0m\u001b[0;34m.\u001b[0m\u001b[0mmutated\u001b[0m\u001b[0;34m,\u001b[0m\u001b[0;34m\u001b[0m\u001b[0;34m\u001b[0m\u001b[0m\n\u001b[0;32m--> 533\u001b[0;31m                 \u001b[0mdropna\u001b[0m\u001b[0;34m=\u001b[0m\u001b[0mself\u001b[0m\u001b[0;34m.\u001b[0m\u001b[0mdropna\u001b[0m\u001b[0;34m,\u001b[0m\u001b[0;34m\u001b[0m\u001b[0;34m\u001b[0m\u001b[0m\n\u001b[0m\u001b[1;32m    534\u001b[0m             )\n\u001b[1;32m    535\u001b[0m \u001b[0;34m\u001b[0m\u001b[0m\n",
      "\u001b[0;32m/opt/tljh/user/lib/python3.6/site-packages/pandas/core/groupby/grouper.py\u001b[0m in \u001b[0;36mget_grouper\u001b[0;34m(obj, key, axis, level, sort, observed, mutated, validate, dropna)\u001b[0m\n\u001b[1;32m    784\u001b[0m                 \u001b[0min_axis\u001b[0m\u001b[0;34m,\u001b[0m \u001b[0mname\u001b[0m\u001b[0;34m,\u001b[0m \u001b[0mlevel\u001b[0m\u001b[0;34m,\u001b[0m \u001b[0mgpr\u001b[0m \u001b[0;34m=\u001b[0m \u001b[0;32mFalse\u001b[0m\u001b[0;34m,\u001b[0m \u001b[0;32mNone\u001b[0m\u001b[0;34m,\u001b[0m \u001b[0mgpr\u001b[0m\u001b[0;34m,\u001b[0m \u001b[0;32mNone\u001b[0m\u001b[0;34m\u001b[0m\u001b[0;34m\u001b[0m\u001b[0m\n\u001b[1;32m    785\u001b[0m             \u001b[0;32melse\u001b[0m\u001b[0;34m:\u001b[0m\u001b[0;34m\u001b[0m\u001b[0;34m\u001b[0m\u001b[0m\n\u001b[0;32m--> 786\u001b[0;31m                 \u001b[0;32mraise\u001b[0m \u001b[0mKeyError\u001b[0m\u001b[0;34m(\u001b[0m\u001b[0mgpr\u001b[0m\u001b[0;34m)\u001b[0m\u001b[0;34m\u001b[0m\u001b[0;34m\u001b[0m\u001b[0m\n\u001b[0m\u001b[1;32m    787\u001b[0m         \u001b[0;32melif\u001b[0m \u001b[0misinstance\u001b[0m\u001b[0;34m(\u001b[0m\u001b[0mgpr\u001b[0m\u001b[0;34m,\u001b[0m \u001b[0mGrouper\u001b[0m\u001b[0;34m)\u001b[0m \u001b[0;32mand\u001b[0m \u001b[0mgpr\u001b[0m\u001b[0;34m.\u001b[0m\u001b[0mkey\u001b[0m \u001b[0;32mis\u001b[0m \u001b[0;32mnot\u001b[0m \u001b[0;32mNone\u001b[0m\u001b[0;34m:\u001b[0m\u001b[0;34m\u001b[0m\u001b[0;34m\u001b[0m\u001b[0m\n\u001b[1;32m    788\u001b[0m             \u001b[0;31m# Add key to exclusions\u001b[0m\u001b[0;34m\u001b[0m\u001b[0;34m\u001b[0m\u001b[0;34m\u001b[0m\u001b[0m\n",
      "\u001b[0;31mKeyError\u001b[0m: 'Payer'"
     ]
    }
   ],
   "source": [
    "data.groupby(['Payer'])['IP Expected Reimbursement'].count()"
   ]
  },
  {
   "cell_type": "code",
   "execution_count": 18,
   "metadata": {},
   "outputs": [
    {
     "ename": "KeyError",
     "evalue": "'Payer'",
     "output_type": "error",
     "traceback": [
      "\u001b[0;31m---------------------------------------------------------------------------\u001b[0m",
      "\u001b[0;31mKeyError\u001b[0m                                  Traceback (most recent call last)",
      "\u001b[0;32m<ipython-input-18-52ad7591db1e>\u001b[0m in \u001b[0;36m<module>\u001b[0;34m\u001b[0m\n\u001b[0;32m----> 1\u001b[0;31m data.groupby(['Payer'])['IP Expected Reimbursement'].plot.kde(xlim=(0,40000),\n\u001b[0m\u001b[1;32m      2\u001b[0m     \u001b[0mlegend\u001b[0m\u001b[0;34m=\u001b[0m\u001b[0;32mTrue\u001b[0m\u001b[0;34m,\u001b[0m\u001b[0;34m\u001b[0m\u001b[0;34m\u001b[0m\u001b[0m\n\u001b[1;32m      3\u001b[0m     figsize=(13,5.5))\n",
      "\u001b[0;32m/opt/tljh/user/lib/python3.6/site-packages/pandas/core/series.py\u001b[0m in \u001b[0;36mgroupby\u001b[0;34m(self, by, axis, level, as_index, sort, group_keys, squeeze, observed, dropna)\u001b[0m\n\u001b[1;32m   1744\u001b[0m             \u001b[0msqueeze\u001b[0m\u001b[0;34m=\u001b[0m\u001b[0msqueeze\u001b[0m\u001b[0;34m,\u001b[0m\u001b[0;34m\u001b[0m\u001b[0;34m\u001b[0m\u001b[0m\n\u001b[1;32m   1745\u001b[0m             \u001b[0mobserved\u001b[0m\u001b[0;34m=\u001b[0m\u001b[0mobserved\u001b[0m\u001b[0;34m,\u001b[0m\u001b[0;34m\u001b[0m\u001b[0;34m\u001b[0m\u001b[0m\n\u001b[0;32m-> 1746\u001b[0;31m             \u001b[0mdropna\u001b[0m\u001b[0;34m=\u001b[0m\u001b[0mdropna\u001b[0m\u001b[0;34m,\u001b[0m\u001b[0;34m\u001b[0m\u001b[0;34m\u001b[0m\u001b[0m\n\u001b[0m\u001b[1;32m   1747\u001b[0m         )\n\u001b[1;32m   1748\u001b[0m \u001b[0;34m\u001b[0m\u001b[0m\n",
      "\u001b[0;32m/opt/tljh/user/lib/python3.6/site-packages/pandas/core/groupby/groupby.py\u001b[0m in \u001b[0;36m__init__\u001b[0;34m(self, obj, keys, axis, level, grouper, exclusions, selection, as_index, sort, group_keys, squeeze, observed, mutated, dropna)\u001b[0m\n\u001b[1;32m    531\u001b[0m                 \u001b[0mobserved\u001b[0m\u001b[0;34m=\u001b[0m\u001b[0mobserved\u001b[0m\u001b[0;34m,\u001b[0m\u001b[0;34m\u001b[0m\u001b[0;34m\u001b[0m\u001b[0m\n\u001b[1;32m    532\u001b[0m                 \u001b[0mmutated\u001b[0m\u001b[0;34m=\u001b[0m\u001b[0mself\u001b[0m\u001b[0;34m.\u001b[0m\u001b[0mmutated\u001b[0m\u001b[0;34m,\u001b[0m\u001b[0;34m\u001b[0m\u001b[0;34m\u001b[0m\u001b[0m\n\u001b[0;32m--> 533\u001b[0;31m                 \u001b[0mdropna\u001b[0m\u001b[0;34m=\u001b[0m\u001b[0mself\u001b[0m\u001b[0;34m.\u001b[0m\u001b[0mdropna\u001b[0m\u001b[0;34m,\u001b[0m\u001b[0;34m\u001b[0m\u001b[0;34m\u001b[0m\u001b[0m\n\u001b[0m\u001b[1;32m    534\u001b[0m             )\n\u001b[1;32m    535\u001b[0m \u001b[0;34m\u001b[0m\u001b[0m\n",
      "\u001b[0;32m/opt/tljh/user/lib/python3.6/site-packages/pandas/core/groupby/grouper.py\u001b[0m in \u001b[0;36mget_grouper\u001b[0;34m(obj, key, axis, level, sort, observed, mutated, validate, dropna)\u001b[0m\n\u001b[1;32m    784\u001b[0m                 \u001b[0min_axis\u001b[0m\u001b[0;34m,\u001b[0m \u001b[0mname\u001b[0m\u001b[0;34m,\u001b[0m \u001b[0mlevel\u001b[0m\u001b[0;34m,\u001b[0m \u001b[0mgpr\u001b[0m \u001b[0;34m=\u001b[0m \u001b[0;32mFalse\u001b[0m\u001b[0;34m,\u001b[0m \u001b[0;32mNone\u001b[0m\u001b[0;34m,\u001b[0m \u001b[0mgpr\u001b[0m\u001b[0;34m,\u001b[0m \u001b[0;32mNone\u001b[0m\u001b[0;34m\u001b[0m\u001b[0;34m\u001b[0m\u001b[0m\n\u001b[1;32m    785\u001b[0m             \u001b[0;32melse\u001b[0m\u001b[0;34m:\u001b[0m\u001b[0;34m\u001b[0m\u001b[0;34m\u001b[0m\u001b[0m\n\u001b[0;32m--> 786\u001b[0;31m                 \u001b[0;32mraise\u001b[0m \u001b[0mKeyError\u001b[0m\u001b[0;34m(\u001b[0m\u001b[0mgpr\u001b[0m\u001b[0;34m)\u001b[0m\u001b[0;34m\u001b[0m\u001b[0;34m\u001b[0m\u001b[0m\n\u001b[0m\u001b[1;32m    787\u001b[0m         \u001b[0;32melif\u001b[0m \u001b[0misinstance\u001b[0m\u001b[0;34m(\u001b[0m\u001b[0mgpr\u001b[0m\u001b[0;34m,\u001b[0m \u001b[0mGrouper\u001b[0m\u001b[0;34m)\u001b[0m \u001b[0;32mand\u001b[0m \u001b[0mgpr\u001b[0m\u001b[0;34m.\u001b[0m\u001b[0mkey\u001b[0m \u001b[0;32mis\u001b[0m \u001b[0;32mnot\u001b[0m \u001b[0;32mNone\u001b[0m\u001b[0;34m:\u001b[0m\u001b[0;34m\u001b[0m\u001b[0;34m\u001b[0m\u001b[0m\n\u001b[1;32m    788\u001b[0m             \u001b[0;31m# Add key to exclusions\u001b[0m\u001b[0;34m\u001b[0m\u001b[0;34m\u001b[0m\u001b[0;34m\u001b[0m\u001b[0m\n",
      "\u001b[0;31mKeyError\u001b[0m: 'Payer'"
     ]
    }
   ],
   "source": [
    "data.groupby(['Payer'])['IP Expected Reimbursement'].plot.kde(xlim=(0,40000),\n",
    "    legend=True,\n",
    "    figsize=(13,5.5))\n"
   ]
  },
  {
   "cell_type": "markdown",
   "metadata": {},
   "source": [
    "### Question:\n",
    "\n",
    "Remember what this KDE represents. The x-axis is the price being reimbursement for a particular service and the y-axis represents how many different records in the input fall into that price range.  So, the higher the line at any particular x value, the more records are there.\n",
    "\n",
    "If the line is higher the further left you go, that means most prices are lower.  If the peak of the line is more the the right, then the typical price is higher.\n",
    "\n",
    "* What do you observe about the patterns in reimbursement above?\n",
    "* What does that tell you about these particular plans?\n"
   ]
  },
  {
   "cell_type": "markdown",
   "metadata": {},
   "source": [
    "---\n",
    "\n",
    "### 41.4 Seeing if there's any correlation\n",
    "\n",
    "So, we know that there are cash prices and insurance paid prices.  How strongly correlated are those amounts?\n",
    "\n",
    "We can use a scatterplot with one value on the x axis and the other on the y axis to do a simple visualization of this."
   ]
  },
  {
   "cell_type": "code",
   "execution_count": null,
   "metadata": {},
   "outputs": [],
   "source": [
    "data.plot.scatter(x='IP Cash Price', y='IP Expected Reimbursement', color='DarkRed', label='Reimbursement')"
   ]
  },
  {
   "cell_type": "code",
   "execution_count": null,
   "metadata": {},
   "outputs": [],
   "source": [
    "groups = data.groupby(['Payer'])\n",
    "plt.figure(figsize=(17,11))\n",
    "\n",
    "for i, (payer, prices) in enumerate(groups):\n",
    "    ax = plt.subplot(3,3, i+1)\n",
    "    prices.plot.scatter(x='IP Cash Price',y='IP Expected Reimbursement',ax=ax)\n",
    "    ax.set_title(payer)\n",
    "    ax.set_xlim(0,20000)\n",
    "    ax.set_ylim(0,80000)\n",
    "\n",
    "plt.tight_layout()\n",
    "plt.show()"
   ]
  },
  {
   "cell_type": "markdown",
   "metadata": {},
   "source": [
    "---\n",
    "\n",
    "### 41.5 Find Something of Your Own\n",
    "\n",
    "What data are you interested in?  To earn full credit this week, you'll need to do the following:\n",
    "1. Bring in some other data that you're interested in visualizing.  You can upload the file to your project directory and work with it here.\n",
    "2. Read that data in using Pandas\n",
    "3. Produce at least two different visualizations of that data\n",
    "4. Write a paragraph that describes your observations of the trends in that data\n",
    "\n",
    "If you're struggling to find data to use, feel free to reach out to me.  I can make some recommendations on data sets with interesting trends in them.\n",
    "\n",
    "[Here is a helpful reference for plotting in Pandas.](https://pandas.pydata.org/pandas-docs/stable/user_guide/visualization.html)"
   ]
  },
  {
   "cell_type": "code",
   "execution_count": 25,
   "metadata": {},
   "outputs": [
    {
     "data": {
      "text/html": [
       "<div>\n",
       "<style scoped>\n",
       "    .dataframe tbody tr th:only-of-type {\n",
       "        vertical-align: middle;\n",
       "    }\n",
       "\n",
       "    .dataframe tbody tr th {\n",
       "        vertical-align: top;\n",
       "    }\n",
       "\n",
       "    .dataframe thead th {\n",
       "        text-align: right;\n",
       "    }\n",
       "</style>\n",
       "<table border=\"1\" class=\"dataframe\">\n",
       "  <thead>\n",
       "    <tr style=\"text-align: right;\">\n",
       "      <th></th>\n",
       "      <th>FIPS</th>\n",
       "      <th>State</th>\n",
       "      <th>County</th>\n",
       "      <th>Years of Potential Life Lost Rate</th>\n",
       "      <th>% Fair/Poor health</th>\n",
       "      <th>% Not Fair/Poor Health</th>\n",
       "      <th>Mentally Unhealthy Days</th>\n",
       "      <th>% LBW</th>\n",
       "      <th>% Smokers</th>\n",
       "      <th>% non-smokers</th>\n",
       "      <th>...</th>\n",
       "      <th>HS Graduation Rate</th>\n",
       "      <th>% Unemployed</th>\n",
       "      <th>% Children in Poverty</th>\n",
       "      <th>% Single-Parent Households</th>\n",
       "      <th>Association Rate</th>\n",
       "      <th>Violent Crime Rate</th>\n",
       "      <th>Average Daily PM2.5</th>\n",
       "      <th>% Severe Housing Problems</th>\n",
       "      <th>% Drive Alone to work</th>\n",
       "      <th>% Long Commute - Drives Alone</th>\n",
       "    </tr>\n",
       "  </thead>\n",
       "  <tbody>\n",
       "    <tr>\n",
       "      <th>0</th>\n",
       "      <td>29001</td>\n",
       "      <td>Missouri</td>\n",
       "      <td>Adair</td>\n",
       "      <td>7071.19</td>\n",
       "      <td>17.5</td>\n",
       "      <td>82.5</td>\n",
       "      <td>4.5</td>\n",
       "      <td>8.756219</td>\n",
       "      <td>26.3</td>\n",
       "      <td>73.7</td>\n",
       "      <td>...</td>\n",
       "      <td>92.085153</td>\n",
       "      <td>5.417176</td>\n",
       "      <td>24.9</td>\n",
       "      <td>28.490208</td>\n",
       "      <td>16.809351</td>\n",
       "      <td>397.883158</td>\n",
       "      <td>9.74</td>\n",
       "      <td>21.069019</td>\n",
       "      <td>79.261572</td>\n",
       "      <td>13.5</td>\n",
       "    </tr>\n",
       "    <tr>\n",
       "      <th>1</th>\n",
       "      <td>29003</td>\n",
       "      <td>Missouri</td>\n",
       "      <td>Andrew</td>\n",
       "      <td>7454.31</td>\n",
       "      <td>11.2</td>\n",
       "      <td>88.8</td>\n",
       "      <td>2.2</td>\n",
       "      <td>5.900621</td>\n",
       "      <td>21.5</td>\n",
       "      <td>78.5</td>\n",
       "      <td>...</td>\n",
       "      <td>87.760181</td>\n",
       "      <td>4.807603</td>\n",
       "      <td>13.1</td>\n",
       "      <td>23.339272</td>\n",
       "      <td>8.612275</td>\n",
       "      <td>59.761340</td>\n",
       "      <td>8.55</td>\n",
       "      <td>9.645818</td>\n",
       "      <td>83.637208</td>\n",
       "      <td>23.3</td>\n",
       "    </tr>\n",
       "    <tr>\n",
       "      <th>2</th>\n",
       "      <td>29005</td>\n",
       "      <td>Missouri</td>\n",
       "      <td>Atchison</td>\n",
       "      <td>8075.70</td>\n",
       "      <td>13.2</td>\n",
       "      <td>86.8</td>\n",
       "      <td>3.6</td>\n",
       "      <td>5.528846</td>\n",
       "      <td>25.4</td>\n",
       "      <td>74.6</td>\n",
       "      <td>...</td>\n",
       "      <td>NaN</td>\n",
       "      <td>5.192685</td>\n",
       "      <td>16.8</td>\n",
       "      <td>19.119025</td>\n",
       "      <td>34.439007</td>\n",
       "      <td>123.747790</td>\n",
       "      <td>8.28</td>\n",
       "      <td>5.930470</td>\n",
       "      <td>80.268557</td>\n",
       "      <td>18.2</td>\n",
       "    </tr>\n",
       "    <tr>\n",
       "      <th>3</th>\n",
       "      <td>29007</td>\n",
       "      <td>Missouri</td>\n",
       "      <td>Audrain</td>\n",
       "      <td>6984.48</td>\n",
       "      <td>21.6</td>\n",
       "      <td>78.4</td>\n",
       "      <td>4.8</td>\n",
       "      <td>7.583301</td>\n",
       "      <td>29.0</td>\n",
       "      <td>71.0</td>\n",
       "      <td>...</td>\n",
       "      <td>82.914754</td>\n",
       "      <td>5.772371</td>\n",
       "      <td>32.9</td>\n",
       "      <td>33.133214</td>\n",
       "      <td>13.660669</td>\n",
       "      <td>181.072103</td>\n",
       "      <td>10.44</td>\n",
       "      <td>9.602122</td>\n",
       "      <td>79.427181</td>\n",
       "      <td>23.3</td>\n",
       "    </tr>\n",
       "    <tr>\n",
       "      <th>4</th>\n",
       "      <td>29009</td>\n",
       "      <td>Missouri</td>\n",
       "      <td>Barry</td>\n",
       "      <td>9701.50</td>\n",
       "      <td>17.7</td>\n",
       "      <td>82.3</td>\n",
       "      <td>5.2</td>\n",
       "      <td>7.285162</td>\n",
       "      <td>30.9</td>\n",
       "      <td>69.1</td>\n",
       "      <td>...</td>\n",
       "      <td>91.266234</td>\n",
       "      <td>5.794134</td>\n",
       "      <td>32.2</td>\n",
       "      <td>28.484920</td>\n",
       "      <td>14.347606</td>\n",
       "      <td>268.817204</td>\n",
       "      <td>10.14</td>\n",
       "      <td>13.930886</td>\n",
       "      <td>79.771213</td>\n",
       "      <td>28.7</td>\n",
       "    </tr>\n",
       "    <tr>\n",
       "      <th>...</th>\n",
       "      <td>...</td>\n",
       "      <td>...</td>\n",
       "      <td>...</td>\n",
       "      <td>...</td>\n",
       "      <td>...</td>\n",
       "      <td>...</td>\n",
       "      <td>...</td>\n",
       "      <td>...</td>\n",
       "      <td>...</td>\n",
       "      <td>...</td>\n",
       "      <td>...</td>\n",
       "      <td>...</td>\n",
       "      <td>...</td>\n",
       "      <td>...</td>\n",
       "      <td>...</td>\n",
       "      <td>...</td>\n",
       "      <td>...</td>\n",
       "      <td>...</td>\n",
       "      <td>...</td>\n",
       "      <td>...</td>\n",
       "      <td>...</td>\n",
       "    </tr>\n",
       "    <tr>\n",
       "      <th>109</th>\n",
       "      <td>29221</td>\n",
       "      <td>Missouri</td>\n",
       "      <td>Washington</td>\n",
       "      <td>9320.62</td>\n",
       "      <td>25.7</td>\n",
       "      <td>74.3</td>\n",
       "      <td>5.0</td>\n",
       "      <td>9.450549</td>\n",
       "      <td>34.0</td>\n",
       "      <td>66.0</td>\n",
       "      <td>...</td>\n",
       "      <td>88.589286</td>\n",
       "      <td>9.450000</td>\n",
       "      <td>39.2</td>\n",
       "      <td>32.136040</td>\n",
       "      <td>9.962144</td>\n",
       "      <td>178.559619</td>\n",
       "      <td>11.13</td>\n",
       "      <td>13.646288</td>\n",
       "      <td>79.811559</td>\n",
       "      <td>38.7</td>\n",
       "    </tr>\n",
       "    <tr>\n",
       "      <th>110</th>\n",
       "      <td>29223</td>\n",
       "      <td>Missouri</td>\n",
       "      <td>Wayne</td>\n",
       "      <td>9313.31</td>\n",
       "      <td>27.2</td>\n",
       "      <td>72.8</td>\n",
       "      <td>5.5</td>\n",
       "      <td>8.895706</td>\n",
       "      <td>36.7</td>\n",
       "      <td>63.3</td>\n",
       "      <td>...</td>\n",
       "      <td>93.403846</td>\n",
       "      <td>7.467205</td>\n",
       "      <td>41.6</td>\n",
       "      <td>36.162495</td>\n",
       "      <td>14.176989</td>\n",
       "      <td>103.471213</td>\n",
       "      <td>11.89</td>\n",
       "      <td>13.209220</td>\n",
       "      <td>81.258658</td>\n",
       "      <td>37.0</td>\n",
       "    </tr>\n",
       "    <tr>\n",
       "      <th>111</th>\n",
       "      <td>29225</td>\n",
       "      <td>Missouri</td>\n",
       "      <td>Webster</td>\n",
       "      <td>7183.27</td>\n",
       "      <td>20.8</td>\n",
       "      <td>79.2</td>\n",
       "      <td>3.9</td>\n",
       "      <td>6.226716</td>\n",
       "      <td>17.3</td>\n",
       "      <td>82.7</td>\n",
       "      <td>...</td>\n",
       "      <td>91.205709</td>\n",
       "      <td>6.423878</td>\n",
       "      <td>32.0</td>\n",
       "      <td>24.447791</td>\n",
       "      <td>8.803059</td>\n",
       "      <td>125.637357</td>\n",
       "      <td>9.79</td>\n",
       "      <td>15.369650</td>\n",
       "      <td>80.027019</td>\n",
       "      <td>50.5</td>\n",
       "    </tr>\n",
       "    <tr>\n",
       "      <th>112</th>\n",
       "      <td>29227</td>\n",
       "      <td>Missouri</td>\n",
       "      <td>Worth</td>\n",
       "      <td>8544.34</td>\n",
       "      <td>NaN</td>\n",
       "      <td>NaN</td>\n",
       "      <td>NaN</td>\n",
       "      <td>NaN</td>\n",
       "      <td>NaN</td>\n",
       "      <td>NaN</td>\n",
       "      <td>...</td>\n",
       "      <td>NaN</td>\n",
       "      <td>4.149715</td>\n",
       "      <td>23.3</td>\n",
       "      <td>16.780045</td>\n",
       "      <td>24.050024</td>\n",
       "      <td>184.501845</td>\n",
       "      <td>8.75</td>\n",
       "      <td>5.641026</td>\n",
       "      <td>73.205742</td>\n",
       "      <td>44.5</td>\n",
       "    </tr>\n",
       "    <tr>\n",
       "      <th>113</th>\n",
       "      <td>29229</td>\n",
       "      <td>Missouri</td>\n",
       "      <td>Wright</td>\n",
       "      <td>9964.76</td>\n",
       "      <td>20.4</td>\n",
       "      <td>79.6</td>\n",
       "      <td>4.1</td>\n",
       "      <td>7.562077</td>\n",
       "      <td>23.7</td>\n",
       "      <td>76.3</td>\n",
       "      <td>...</td>\n",
       "      <td>96.094421</td>\n",
       "      <td>7.115104</td>\n",
       "      <td>41.2</td>\n",
       "      <td>27.345731</td>\n",
       "      <td>15.030329</td>\n",
       "      <td>222.744493</td>\n",
       "      <td>10.05</td>\n",
       "      <td>16.002656</td>\n",
       "      <td>74.270016</td>\n",
       "      <td>34.2</td>\n",
       "    </tr>\n",
       "  </tbody>\n",
       "</table>\n",
       "<p>114 rows × 27 columns</p>\n",
       "</div>"
      ],
      "text/plain": [
       "      FIPS     State      County  Years of Potential Life Lost Rate  \\\n",
       "0    29001  Missouri       Adair                            7071.19   \n",
       "1    29003  Missouri      Andrew                            7454.31   \n",
       "2    29005  Missouri    Atchison                            8075.70   \n",
       "3    29007  Missouri     Audrain                            6984.48   \n",
       "4    29009  Missouri       Barry                            9701.50   \n",
       "..     ...       ...         ...                                ...   \n",
       "109  29221  Missouri  Washington                            9320.62   \n",
       "110  29223  Missouri       Wayne                            9313.31   \n",
       "111  29225  Missouri     Webster                            7183.27   \n",
       "112  29227  Missouri       Worth                            8544.34   \n",
       "113  29229  Missouri      Wright                            9964.76   \n",
       "\n",
       "     % Fair/Poor health  % Not Fair/Poor Health  Mentally Unhealthy Days  \\\n",
       "0                  17.5                    82.5                      4.5   \n",
       "1                  11.2                    88.8                      2.2   \n",
       "2                  13.2                    86.8                      3.6   \n",
       "3                  21.6                    78.4                      4.8   \n",
       "4                  17.7                    82.3                      5.2   \n",
       "..                  ...                     ...                      ...   \n",
       "109                25.7                    74.3                      5.0   \n",
       "110                27.2                    72.8                      5.5   \n",
       "111                20.8                    79.2                      3.9   \n",
       "112                 NaN                     NaN                      NaN   \n",
       "113                20.4                    79.6                      4.1   \n",
       "\n",
       "        % LBW  % Smokers  % non-smokers  ...  HS Graduation Rate  \\\n",
       "0    8.756219       26.3           73.7  ...           92.085153   \n",
       "1    5.900621       21.5           78.5  ...           87.760181   \n",
       "2    5.528846       25.4           74.6  ...                 NaN   \n",
       "3    7.583301       29.0           71.0  ...           82.914754   \n",
       "4    7.285162       30.9           69.1  ...           91.266234   \n",
       "..        ...        ...            ...  ...                 ...   \n",
       "109  9.450549       34.0           66.0  ...           88.589286   \n",
       "110  8.895706       36.7           63.3  ...           93.403846   \n",
       "111  6.226716       17.3           82.7  ...           91.205709   \n",
       "112       NaN        NaN            NaN  ...                 NaN   \n",
       "113  7.562077       23.7           76.3  ...           96.094421   \n",
       "\n",
       "     % Unemployed  % Children in Poverty  % Single-Parent Households  \\\n",
       "0        5.417176                   24.9                   28.490208   \n",
       "1        4.807603                   13.1                   23.339272   \n",
       "2        5.192685                   16.8                   19.119025   \n",
       "3        5.772371                   32.9                   33.133214   \n",
       "4        5.794134                   32.2                   28.484920   \n",
       "..            ...                    ...                         ...   \n",
       "109      9.450000                   39.2                   32.136040   \n",
       "110      7.467205                   41.6                   36.162495   \n",
       "111      6.423878                   32.0                   24.447791   \n",
       "112      4.149715                   23.3                   16.780045   \n",
       "113      7.115104                   41.2                   27.345731   \n",
       "\n",
       "     Association Rate  Violent Crime Rate  Average Daily PM2.5  \\\n",
       "0           16.809351          397.883158                 9.74   \n",
       "1            8.612275           59.761340                 8.55   \n",
       "2           34.439007          123.747790                 8.28   \n",
       "3           13.660669          181.072103                10.44   \n",
       "4           14.347606          268.817204                10.14   \n",
       "..                ...                 ...                  ...   \n",
       "109          9.962144          178.559619                11.13   \n",
       "110         14.176989          103.471213                11.89   \n",
       "111          8.803059          125.637357                 9.79   \n",
       "112         24.050024          184.501845                 8.75   \n",
       "113         15.030329          222.744493                10.05   \n",
       "\n",
       "     % Severe Housing Problems  % Drive Alone to work  \\\n",
       "0                    21.069019              79.261572   \n",
       "1                     9.645818              83.637208   \n",
       "2                     5.930470              80.268557   \n",
       "3                     9.602122              79.427181   \n",
       "4                    13.930886              79.771213   \n",
       "..                         ...                    ...   \n",
       "109                  13.646288              79.811559   \n",
       "110                  13.209220              81.258658   \n",
       "111                  15.369650              80.027019   \n",
       "112                   5.641026              73.205742   \n",
       "113                  16.002656              74.270016   \n",
       "\n",
       "     % Long Commute - Drives Alone  \n",
       "0                             13.5  \n",
       "1                             23.3  \n",
       "2                             18.2  \n",
       "3                             23.3  \n",
       "4                             28.7  \n",
       "..                             ...  \n",
       "109                           38.7  \n",
       "110                           37.0  \n",
       "111                           50.5  \n",
       "112                           44.5  \n",
       "113                           34.2  \n",
       "\n",
       "[114 rows x 27 columns]"
      ]
     },
     "execution_count": 25,
     "metadata": {},
     "output_type": "execute_result"
    }
   ],
   "source": [
    "import pandas as pd\n",
    "import seaborn as sns \n",
    "\n",
    "data_1 = pd.read_excel('HMP 5200_MO Data.xlsx', sheet_name='Missouri Data')\n",
    "data_1"
   ]
  },
  {
   "cell_type": "code",
   "execution_count": 24,
   "metadata": {},
   "outputs": [
    {
     "data": {
      "text/plain": [
       "<matplotlib.axes._subplots.AxesSubplot at 0x7faabcd65390>"
      ]
     },
     "execution_count": 24,
     "metadata": {},
     "output_type": "execute_result"
    },
    {
     "data": {
      "image/png": "[encoded data removed]",
      "text/plain": [
       "<Figure size 432x288 with 1 Axes>"
      ]
     },
     "metadata": {
      "needs_background": "light"
     },
     "output_type": "display_data"
    }
   ],
   "source": [
    "sns.regplot(data = data_1, x='% Fair/Poor health', y='% Uninsured', color='Blue')\n",
    "sns.regplot(data = data_1, x='% Fair/Poor health', y='% Physically Inactive', color='Orange')"
   ]
  },
  {
   "cell_type": "markdown",
   "metadata": {},
   "source": [
    "### Observations #1\n",
    "\n",
    "From this data set we can observe and confirm a hypothesis that those who are in worse health condition tend to be more physically inactive. The seaborn capability shows us via a line of how the data is trending and can help us estimate future values if nesssary. "
   ]
  },
  {
   "cell_type": "code",
   "execution_count": 19,
   "metadata": {},
   "outputs": [
    {
     "data": {
      "text/html": [
       "<div>\n",
       "<style scoped>\n",
       "    .dataframe tbody tr th:only-of-type {\n",
       "        vertical-align: middle;\n",
       "    }\n",
       "\n",
       "    .dataframe tbody tr th {\n",
       "        vertical-align: top;\n",
       "    }\n",
       "\n",
       "    .dataframe thead th {\n",
       "        text-align: right;\n",
       "    }\n",
       "</style>\n",
       "<table border=\"1\" class=\"dataframe\">\n",
       "  <thead>\n",
       "    <tr style=\"text-align: right;\">\n",
       "      <th></th>\n",
       "      <th>iso_code</th>\n",
       "      <th>continent</th>\n",
       "      <th>location</th>\n",
       "      <th>date</th>\n",
       "      <th>total_cases</th>\n",
       "      <th>new_cases</th>\n",
       "      <th>new_cases_smoothed</th>\n",
       "      <th>total_deaths</th>\n",
       "      <th>new_deaths</th>\n",
       "      <th>new_deaths_smoothed</th>\n",
       "      <th>...</th>\n",
       "      <th>gdp_per_capita</th>\n",
       "      <th>extreme_poverty</th>\n",
       "      <th>cardiovasc_death_rate</th>\n",
       "      <th>diabetes_prevalence</th>\n",
       "      <th>female_smokers</th>\n",
       "      <th>male_smokers</th>\n",
       "      <th>handwashing_facilities</th>\n",
       "      <th>hospital_beds_per_thousand</th>\n",
       "      <th>life_expectancy</th>\n",
       "      <th>human_development_index</th>\n",
       "    </tr>\n",
       "  </thead>\n",
       "  <tbody>\n",
       "    <tr>\n",
       "      <th>0</th>\n",
       "      <td>AFG</td>\n",
       "      <td>Asia</td>\n",
       "      <td>Afghanistan</td>\n",
       "      <td>2020-02-24</td>\n",
       "      <td>1.0</td>\n",
       "      <td>1.0</td>\n",
       "      <td>NaN</td>\n",
       "      <td>NaN</td>\n",
       "      <td>NaN</td>\n",
       "      <td>NaN</td>\n",
       "      <td>...</td>\n",
       "      <td>1803.987</td>\n",
       "      <td>NaN</td>\n",
       "      <td>597.029</td>\n",
       "      <td>9.59</td>\n",
       "      <td>NaN</td>\n",
       "      <td>NaN</td>\n",
       "      <td>37.746</td>\n",
       "      <td>0.5</td>\n",
       "      <td>64.83</td>\n",
       "      <td>0.498</td>\n",
       "    </tr>\n",
       "    <tr>\n",
       "      <th>1</th>\n",
       "      <td>AFG</td>\n",
       "      <td>Asia</td>\n",
       "      <td>Afghanistan</td>\n",
       "      <td>2020-02-25</td>\n",
       "      <td>1.0</td>\n",
       "      <td>0.0</td>\n",
       "      <td>NaN</td>\n",
       "      <td>NaN</td>\n",
       "      <td>NaN</td>\n",
       "      <td>NaN</td>\n",
       "      <td>...</td>\n",
       "      <td>1803.987</td>\n",
       "      <td>NaN</td>\n",
       "      <td>597.029</td>\n",
       "      <td>9.59</td>\n",
       "      <td>NaN</td>\n",
       "      <td>NaN</td>\n",
       "      <td>37.746</td>\n",
       "      <td>0.5</td>\n",
       "      <td>64.83</td>\n",
       "      <td>0.498</td>\n",
       "    </tr>\n",
       "    <tr>\n",
       "      <th>2</th>\n",
       "      <td>AFG</td>\n",
       "      <td>Asia</td>\n",
       "      <td>Afghanistan</td>\n",
       "      <td>2020-02-26</td>\n",
       "      <td>1.0</td>\n",
       "      <td>0.0</td>\n",
       "      <td>NaN</td>\n",
       "      <td>NaN</td>\n",
       "      <td>NaN</td>\n",
       "      <td>NaN</td>\n",
       "      <td>...</td>\n",
       "      <td>1803.987</td>\n",
       "      <td>NaN</td>\n",
       "      <td>597.029</td>\n",
       "      <td>9.59</td>\n",
       "      <td>NaN</td>\n",
       "      <td>NaN</td>\n",
       "      <td>37.746</td>\n",
       "      <td>0.5</td>\n",
       "      <td>64.83</td>\n",
       "      <td>0.498</td>\n",
       "    </tr>\n",
       "    <tr>\n",
       "      <th>3</th>\n",
       "      <td>AFG</td>\n",
       "      <td>Asia</td>\n",
       "      <td>Afghanistan</td>\n",
       "      <td>2020-02-27</td>\n",
       "      <td>1.0</td>\n",
       "      <td>0.0</td>\n",
       "      <td>NaN</td>\n",
       "      <td>NaN</td>\n",
       "      <td>NaN</td>\n",
       "      <td>NaN</td>\n",
       "      <td>...</td>\n",
       "      <td>1803.987</td>\n",
       "      <td>NaN</td>\n",
       "      <td>597.029</td>\n",
       "      <td>9.59</td>\n",
       "      <td>NaN</td>\n",
       "      <td>NaN</td>\n",
       "      <td>37.746</td>\n",
       "      <td>0.5</td>\n",
       "      <td>64.83</td>\n",
       "      <td>0.498</td>\n",
       "    </tr>\n",
       "    <tr>\n",
       "      <th>4</th>\n",
       "      <td>AFG</td>\n",
       "      <td>Asia</td>\n",
       "      <td>Afghanistan</td>\n",
       "      <td>2020-02-28</td>\n",
       "      <td>1.0</td>\n",
       "      <td>0.0</td>\n",
       "      <td>NaN</td>\n",
       "      <td>NaN</td>\n",
       "      <td>NaN</td>\n",
       "      <td>NaN</td>\n",
       "      <td>...</td>\n",
       "      <td>1803.987</td>\n",
       "      <td>NaN</td>\n",
       "      <td>597.029</td>\n",
       "      <td>9.59</td>\n",
       "      <td>NaN</td>\n",
       "      <td>NaN</td>\n",
       "      <td>37.746</td>\n",
       "      <td>0.5</td>\n",
       "      <td>64.83</td>\n",
       "      <td>0.498</td>\n",
       "    </tr>\n",
       "  </tbody>\n",
       "</table>\n",
       "<p>5 rows × 59 columns</p>\n",
       "</div>"
      ],
      "text/plain": [
       "  iso_code continent     location        date  total_cases  new_cases  \\\n",
       "0      AFG      Asia  Afghanistan  2020-02-24          1.0        1.0   \n",
       "1      AFG      Asia  Afghanistan  2020-02-25          1.0        0.0   \n",
       "2      AFG      Asia  Afghanistan  2020-02-26          1.0        0.0   \n",
       "3      AFG      Asia  Afghanistan  2020-02-27          1.0        0.0   \n",
       "4      AFG      Asia  Afghanistan  2020-02-28          1.0        0.0   \n",
       "\n",
       "   new_cases_smoothed  total_deaths  new_deaths  new_deaths_smoothed  ...  \\\n",
       "0                 NaN           NaN         NaN                  NaN  ...   \n",
       "1                 NaN           NaN         NaN                  NaN  ...   \n",
       "2                 NaN           NaN         NaN                  NaN  ...   \n",
       "3                 NaN           NaN         NaN                  NaN  ...   \n",
       "4                 NaN           NaN         NaN                  NaN  ...   \n",
       "\n",
       "   gdp_per_capita  extreme_poverty  cardiovasc_death_rate  \\\n",
       "0        1803.987              NaN                597.029   \n",
       "1        1803.987              NaN                597.029   \n",
       "2        1803.987              NaN                597.029   \n",
       "3        1803.987              NaN                597.029   \n",
       "4        1803.987              NaN                597.029   \n",
       "\n",
       "   diabetes_prevalence  female_smokers  male_smokers  handwashing_facilities  \\\n",
       "0                 9.59             NaN           NaN                  37.746   \n",
       "1                 9.59             NaN           NaN                  37.746   \n",
       "2                 9.59             NaN           NaN                  37.746   \n",
       "3                 9.59             NaN           NaN                  37.746   \n",
       "4                 9.59             NaN           NaN                  37.746   \n",
       "\n",
       "   hospital_beds_per_thousand  life_expectancy  human_development_index  \n",
       "0                         0.5            64.83                    0.498  \n",
       "1                         0.5            64.83                    0.498  \n",
       "2                         0.5            64.83                    0.498  \n",
       "3                         0.5            64.83                    0.498  \n",
       "4                         0.5            64.83                    0.498  \n",
       "\n",
       "[5 rows x 59 columns]"
      ]
     },
     "execution_count": 19,
     "metadata": {},
     "output_type": "execute_result"
    }
   ],
   "source": [
    "import pandas as pd\n",
    "import matplotlib.pyplot as plt\n",
    "\n",
    "data = pd.read_csv('owid-covid-data.csv')\n",
    "data.head()"
   ]
  },
  {
   "cell_type": "code",
   "execution_count": null,
   "metadata": {},
   "outputs": [],
   "source": []
  },
  {
   "cell_type": "code",
   "execution_count": 20,
   "metadata": {},
   "outputs": [
    {
     "data": {
      "text/plain": [
       "Africa           17113\n",
       "Asia             15704\n",
       "Europe           15666\n",
       "North America     7514\n",
       "South America     3980\n",
       "Oceania           1729\n",
       "Name: continent, dtype: int64"
      ]
     },
     "execution_count": 20,
     "metadata": {},
     "output_type": "execute_result"
    }
   ],
   "source": [
    "data['continent'].value_counts()"
   ]
  },
  {
   "cell_type": "code",
   "execution_count": null,
   "metadata": {},
   "outputs": [],
   "source": []
  },
  {
   "cell_type": "code",
   "execution_count": 21,
   "metadata": {},
   "outputs": [
    {
     "data": {
      "text/plain": [
       "continent\n",
       "Africa           15140\n",
       "Asia             12746\n",
       "Europe           14244\n",
       "North America     5690\n",
       "Oceania            998\n",
       "South America     3742\n",
       "Name: total_deaths, dtype: int64"
      ]
     },
     "execution_count": 21,
     "metadata": {},
     "output_type": "execute_result"
    }
   ],
   "source": [
    "data.groupby(['continent'])['total_deaths'].count()"
   ]
  },
  {
   "cell_type": "code",
   "execution_count": 22,
   "metadata": {},
   "outputs": [
    {
     "data": {
      "text/plain": [
       "continent\n",
       "Africa           AxesSubplot(0.125,0.125;0.775x0.755)\n",
       "Asia             AxesSubplot(0.125,0.125;0.775x0.755)\n",
       "Europe           AxesSubplot(0.125,0.125;0.775x0.755)\n",
       "North America    AxesSubplot(0.125,0.125;0.775x0.755)\n",
       "Oceania          AxesSubplot(0.125,0.125;0.775x0.755)\n",
       "South America    AxesSubplot(0.125,0.125;0.775x0.755)\n",
       "Name: total_deaths, dtype: object"
      ]
     },
     "execution_count": 22,
     "metadata": {},
     "output_type": "execute_result"
    },
    {
     "data": {
      "image/png": "[encoded data removed]",
      "text/plain": [
       "<Figure size 936x396 with 1 Axes>"
      ]
     },
     "metadata": {
      "needs_background": "light"
     },
     "output_type": "display_data"
    }
   ],
   "source": [
    "data.groupby(['continent'])['total_deaths'].plot.kde(xlim=(0,2000), legend=True,\n",
    "    figsize=(13,5.5))"
   ]
  },
  {
   "cell_type": "markdown",
   "metadata": {},
   "source": [
    "### Observations #2\n",
    "\n",
    "From this generated graph we can tell there are a higher density of deaths in lower numbers in the Oceania continent, but there is a spike in occurance when death toll is between 750 and 100. Africa shows initally a density for death toll but tapers off as well. Remaining continents have a contsant increase in deaths. "
   ]
  },
  {
   "cell_type": "code",
   "execution_count": null,
   "metadata": {},
   "outputs": [],
   "source": []
  },
  {
   "cell_type": "markdown",
   "metadata": {},
   "source": [
    "---\n",
    "\n",
    "## Submitting Your Work\n",
    "\n",
    "In order to submit your work, you'll need to use the `git` command line program to **add** your homework file (this file) to your local repository, **commit** your changes to your local repository, and then **push** those changes up to github.com.  From there, I'll be able to **pull** the changes down and do my grading.  I'll provide some feedback, **commit** and **push** my comments back to you.  Next week, I'll show you how to **pull** down my comments.\n",
    "\n",
    "To run through everything one last time and submit your work:\n",
    "1. Use the `Kernel` -> `Restart Kernel and Run All Cells` menu option to run everything from top to bottom and stop here.\n",
    "2. Save this note with Ctrl-S (or Cmd-S)\n",
    "2. Skip down to the last command cell (the one starting with `%%bash`) and run that cell.\n",
    "\n",
    "If anything fails along the way with this submission part of the process, let me know.  I'll help you troubleshoort."
   ]
  },
  {
   "cell_type": "code",
   "execution_count": null,
   "metadata": {},
   "outputs": [],
   "source": [
    "assert False, \"DO NOT REMOVE THIS LINE\""
   ]
  },
  {
   "cell_type": "markdown",
   "metadata": {},
   "source": [
    "---"
   ]
  },
  {
   "cell_type": "code",
   "execution_count": null,
   "metadata": {},
   "outputs": [],
   "source": [
    "%%bash\n",
    "git pull\n",
    "git add week09_assignment_2.ipynb\n",
    "git commit -a -m \"Submitting the week 9 programming assignment\"\n",
    "git push"
   ]
  },
  {
   "cell_type": "markdown",
   "metadata": {},
   "source": [
    "\n",
    "---\n",
    "\n",
    "If the message above says something like _Submitting the week 8 programming assignment_ or _Everything is up to date_, then your work was submitted correctly."
   ]
  },
  {
   "cell_type": "code",
   "execution_count": null,
   "metadata": {},
   "outputs": [],
   "source": []
  }
 ],
 "metadata": {
  "kernelspec": {
   "display_name": "Python 3",
   "language": "python",
   "name": "python3"
  },
  "language_info": {
   "codemirror_mode": {
    "name": "ipython",
    "version": 3
   },
   "file_extension": ".py",
   "mimetype": "text/x-python",
   "name": "python",
   "nbconvert_exporter": "python",
   "pygments_lexer": "ipython3",
   "version": "3.6.7"
  }
 },
 "nbformat": 4,
 "nbformat_minor": 4
}
