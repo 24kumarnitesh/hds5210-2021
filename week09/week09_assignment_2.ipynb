{
 "cells": [
  {
   "cell_type": "markdown",
   "metadata": {},
   "source": [
    "# Week 9 Assignment\n",
    "\n",
    "_MkKinney 6.1_\n",
    "\n",
    "The work this week has involved using Pandas to load, manipulate, and visualize data.  For this exercise, we're going to be working with some of the price transparency data from [Baptist Health Medical Center](https://www.baptist-health.com/hospital-charges-and-negotiated-rates/) in Little Rock, AR. We've chosen them because their data is relatively easy to reach with Pandas and has some interesting insights.\n",
    "\n",
    "---\n",
    "---"
   ]
  },
  {
   "cell_type": "markdown",
   "metadata": {},
   "source": [
    "### 41.1 Loading and viewing the data\n",
    "\n",
    "There are four files in the `/data` directory related to Baptist Health:\n",
    "* bhmclr_cpt.xlsx\n",
    "* bhmclr_drg.xlsx\n",
    "* bhmclr_med.xlsx\n",
    "* bhmclr_proc.xlsx\n",
    "\n",
    "All of these files have the same format, so you can load and process them all the same way, but the subsets of data in each are distinct.\n",
    "\n",
    "For this first step, we're going to load the DRG data and inspect it using Pandas.  If you download this file and open it in Excel, there will be a few things you notice:\n",
    "1. The workbook has two sheets: \"Pivot\" and \"Sheet1\" - \"Sheet1\" is the one we want\n",
    "2. \"Sheet1\" has three rows before we get to the actual table header - we'll want to skip those rows\n",
    "3. Also, I've filtered the data to just those DRGs where the cash price is less than 20,000 for demo purposes"
   ]
  },
  {
   "cell_type": "code",
   "execution_count": 1,
   "metadata": {},
   "outputs": [],
   "source": [
    "import pandas as pd\n",
    "import matplotlib.pyplot as plt\n",
    "\n",
    "data = pd.read_excel('/data/bhmclr_drg.xlsx', sheet_name='Sheet1', skiprows=3)"
   ]
  },
  {
   "cell_type": "code",
   "execution_count": 2,
   "metadata": {},
   "outputs": [
    {
     "data": {
      "text/plain": [
       "(3864, 19)"
      ]
     },
     "execution_count": 2,
     "metadata": {},
     "output_type": "execute_result"
    }
   ],
   "source": [
    "data.shape"
   ]
  },
  {
   "cell_type": "code",
   "execution_count": 3,
   "metadata": {},
   "outputs": [
    {
     "data": {
      "text/plain": [
       "Index(['Location', 'Code Type', 'Code', 'NDC', 'Rev Code', 'Procedure',\n",
       "       'Procedure Description', 'Quantity', 'Payer', 'IP Charge',\n",
       "       'IP Expected Reimbursement', 'MIN_IP_XR', 'MAX_IP_XR', 'IP Cash Price',\n",
       "       'OP Charge', 'OP Expected Reimbursement', 'MIN_OP_XR', 'MAX_OP_XR',\n",
       "       'OP Cash Price'],\n",
       "      dtype='object')"
      ]
     },
     "execution_count": 3,
     "metadata": {},
     "output_type": "execute_result"
    }
   ],
   "source": [
    "data.columns"
   ]
  },
  {
   "cell_type": "code",
   "execution_count": 4,
   "metadata": {},
   "outputs": [
    {
     "data": {
      "text/html": [
       "<div>\n",
       "<style scoped>\n",
       "    .dataframe tbody tr th:only-of-type {\n",
       "        vertical-align: middle;\n",
       "    }\n",
       "\n",
       "    .dataframe tbody tr th {\n",
       "        vertical-align: top;\n",
       "    }\n",
       "\n",
       "    .dataframe thead th {\n",
       "        text-align: right;\n",
       "    }\n",
       "</style>\n",
       "<table border=\"1\" class=\"dataframe\">\n",
       "  <thead>\n",
       "    <tr style=\"text-align: right;\">\n",
       "      <th></th>\n",
       "      <th>Location</th>\n",
       "      <th>Code Type</th>\n",
       "      <th>Code</th>\n",
       "      <th>NDC</th>\n",
       "      <th>Rev Code</th>\n",
       "      <th>Procedure</th>\n",
       "      <th>Procedure Description</th>\n",
       "      <th>Quantity</th>\n",
       "      <th>Payer</th>\n",
       "      <th>IP Charge</th>\n",
       "      <th>IP Expected Reimbursement</th>\n",
       "      <th>MIN_IP_XR</th>\n",
       "      <th>MAX_IP_XR</th>\n",
       "      <th>IP Cash Price</th>\n",
       "      <th>OP Charge</th>\n",
       "      <th>OP Expected Reimbursement</th>\n",
       "      <th>MIN_OP_XR</th>\n",
       "      <th>MAX_OP_XR</th>\n",
       "      <th>OP Cash Price</th>\n",
       "    </tr>\n",
       "  </thead>\n",
       "  <tbody>\n",
       "    <tr>\n",
       "      <th>0</th>\n",
       "      <td>BHMC LITTLE ROCK</td>\n",
       "      <td>DRG</td>\n",
       "      <td>MS-DRG V38 (FY 2021) 013</td>\n",
       "      <td>NaN</td>\n",
       "      <td>NaN</td>\n",
       "      <td>MS013</td>\n",
       "      <td>Tracheostomy For Face, Mouth And Neck Diagnose...</td>\n",
       "      <td>1</td>\n",
       "      <td>AETNA [65000]</td>\n",
       "      <td>59006.00</td>\n",
       "      <td>31705.95</td>\n",
       "      <td>11936.11</td>\n",
       "      <td>31705.95</td>\n",
       "      <td>15341.56</td>\n",
       "      <td>0</td>\n",
       "      <td>NaN</td>\n",
       "      <td>NaN</td>\n",
       "      <td>NaN</td>\n",
       "      <td>NaN</td>\n",
       "    </tr>\n",
       "    <tr>\n",
       "      <th>1</th>\n",
       "      <td>BHMC LITTLE ROCK</td>\n",
       "      <td>DRG</td>\n",
       "      <td>MS-DRG V38 (FY 2021) 022</td>\n",
       "      <td>NaN</td>\n",
       "      <td>NaN</td>\n",
       "      <td>MS022</td>\n",
       "      <td>Intracranial Vascular Procedures With Principa...</td>\n",
       "      <td>1</td>\n",
       "      <td>AETNA [65000]</td>\n",
       "      <td>61399.00</td>\n",
       "      <td>61399.00</td>\n",
       "      <td>15963.74</td>\n",
       "      <td>61399.00</td>\n",
       "      <td>15963.74</td>\n",
       "      <td>0</td>\n",
       "      <td>NaN</td>\n",
       "      <td>NaN</td>\n",
       "      <td>NaN</td>\n",
       "      <td>NaN</td>\n",
       "    </tr>\n",
       "    <tr>\n",
       "      <th>2</th>\n",
       "      <td>BHMC LITTLE ROCK</td>\n",
       "      <td>DRG</td>\n",
       "      <td>MS-DRG V38 (FY 2021) 024</td>\n",
       "      <td>NaN</td>\n",
       "      <td>NaN</td>\n",
       "      <td>MS024</td>\n",
       "      <td>Craniotomy With Major Device Implant Or Acute ...</td>\n",
       "      <td>1</td>\n",
       "      <td>AETNA [65000]</td>\n",
       "      <td>72401.56</td>\n",
       "      <td>NaN</td>\n",
       "      <td>7770.00</td>\n",
       "      <td>23719.14</td>\n",
       "      <td>18824.41</td>\n",
       "      <td>0</td>\n",
       "      <td>NaN</td>\n",
       "      <td>NaN</td>\n",
       "      <td>NaN</td>\n",
       "      <td>NaN</td>\n",
       "    </tr>\n",
       "    <tr>\n",
       "      <th>3</th>\n",
       "      <td>BHMC LITTLE ROCK</td>\n",
       "      <td>DRG</td>\n",
       "      <td>MS-DRG V38 (FY 2021) 025</td>\n",
       "      <td>NaN</td>\n",
       "      <td>NaN</td>\n",
       "      <td>MS025</td>\n",
       "      <td>Craniotomy And Endovascular Intracranial Proce...</td>\n",
       "      <td>1</td>\n",
       "      <td>AETNA [65000]</td>\n",
       "      <td>76565.21</td>\n",
       "      <td>57449.30</td>\n",
       "      <td>7770.00</td>\n",
       "      <td>57449.30</td>\n",
       "      <td>19906.95</td>\n",
       "      <td>0</td>\n",
       "      <td>NaN</td>\n",
       "      <td>NaN</td>\n",
       "      <td>NaN</td>\n",
       "      <td>NaN</td>\n",
       "    </tr>\n",
       "    <tr>\n",
       "      <th>4</th>\n",
       "      <td>BHMC LITTLE ROCK</td>\n",
       "      <td>DRG</td>\n",
       "      <td>MS-DRG V38 (FY 2021) 026</td>\n",
       "      <td>NaN</td>\n",
       "      <td>NaN</td>\n",
       "      <td>MS026</td>\n",
       "      <td>Craniotomy And Endovascular Intracranial Proce...</td>\n",
       "      <td>1</td>\n",
       "      <td>AETNA [65000]</td>\n",
       "      <td>64748.06</td>\n",
       "      <td>29999.01</td>\n",
       "      <td>2913.75</td>\n",
       "      <td>29999.01</td>\n",
       "      <td>16834.50</td>\n",
       "      <td>0</td>\n",
       "      <td>NaN</td>\n",
       "      <td>NaN</td>\n",
       "      <td>NaN</td>\n",
       "      <td>NaN</td>\n",
       "    </tr>\n",
       "  </tbody>\n",
       "</table>\n",
       "</div>"
      ],
      "text/plain": [
       "           Location Code Type                      Code  NDC  Rev Code  \\\n",
       "0  BHMC LITTLE ROCK       DRG  MS-DRG V38 (FY 2021) 013  NaN       NaN   \n",
       "1  BHMC LITTLE ROCK       DRG  MS-DRG V38 (FY 2021) 022  NaN       NaN   \n",
       "2  BHMC LITTLE ROCK       DRG  MS-DRG V38 (FY 2021) 024  NaN       NaN   \n",
       "3  BHMC LITTLE ROCK       DRG  MS-DRG V38 (FY 2021) 025  NaN       NaN   \n",
       "4  BHMC LITTLE ROCK       DRG  MS-DRG V38 (FY 2021) 026  NaN       NaN   \n",
       "\n",
       "  Procedure                              Procedure Description  Quantity  \\\n",
       "0     MS013  Tracheostomy For Face, Mouth And Neck Diagnose...         1   \n",
       "1     MS022  Intracranial Vascular Procedures With Principa...         1   \n",
       "2     MS024  Craniotomy With Major Device Implant Or Acute ...         1   \n",
       "3     MS025  Craniotomy And Endovascular Intracranial Proce...         1   \n",
       "4     MS026  Craniotomy And Endovascular Intracranial Proce...         1   \n",
       "\n",
       "           Payer  IP Charge  IP Expected Reimbursement  MIN_IP_XR  MAX_IP_XR  \\\n",
       "0  AETNA [65000]   59006.00                   31705.95   11936.11   31705.95   \n",
       "1  AETNA [65000]   61399.00                   61399.00   15963.74   61399.00   \n",
       "2  AETNA [65000]   72401.56                        NaN    7770.00   23719.14   \n",
       "3  AETNA [65000]   76565.21                   57449.30    7770.00   57449.30   \n",
       "4  AETNA [65000]   64748.06                   29999.01    2913.75   29999.01   \n",
       "\n",
       "   IP Cash Price  OP Charge  OP Expected Reimbursement  MIN_OP_XR  MAX_OP_XR  \\\n",
       "0       15341.56          0                        NaN        NaN        NaN   \n",
       "1       15963.74          0                        NaN        NaN        NaN   \n",
       "2       18824.41          0                        NaN        NaN        NaN   \n",
       "3       19906.95          0                        NaN        NaN        NaN   \n",
       "4       16834.50          0                        NaN        NaN        NaN   \n",
       "\n",
       "   OP Cash Price  \n",
       "0            NaN  \n",
       "1            NaN  \n",
       "2            NaN  \n",
       "3            NaN  \n",
       "4            NaN  "
      ]
     },
     "execution_count": 4,
     "metadata": {},
     "output_type": "execute_result"
    }
   ],
   "source": [
    "data.head()"
   ]
  },
  {
   "cell_type": "code",
   "execution_count": 5,
   "metadata": {},
   "outputs": [
    {
     "data": {
      "text/plain": [
       "array([[<matplotlib.axes._subplots.AxesSubplot object at 0x7fc94af12e80>,\n",
       "        <matplotlib.axes._subplots.AxesSubplot object at 0x7fc948e5e1d0>]],\n",
       "      dtype=object)"
      ]
     },
     "execution_count": 5,
     "metadata": {},
     "output_type": "execute_result"
    },
    {
     "data": {
      "image/png": "[encoded data removed]",
      "text/plain": [
       "<Figure size 432x288 with 2 Axes>"
      ]
     },
     "metadata": {
      "needs_background": "light"
     },
     "output_type": "display_data"
    }
   ],
   "source": [
    "data[['IP Cash Price','IP Charge']].hist(bins=20, range=[0,40000])"
   ]
  },
  {
   "cell_type": "markdown",
   "metadata": {},
   "source": [
    "### Question:\n",
    "\n",
    "**What do you observe from the histograms above?**"
   ]
  },
  {
   "cell_type": "markdown",
   "metadata": {},
   "source": [
    "---\n",
    "\n",
    "### 41.2 Plotting a KDE instead\n",
    "\n",
    "Instead of a historgam, let's plot overlapping [KDEs](https://pandas.pydata.org/docs/reference/api/pandas.DataFrame.plot.kde.html)."
   ]
  },
  {
   "cell_type": "code",
   "execution_count": 6,
   "metadata": {},
   "outputs": [
    {
     "data": {
      "text/plain": [
       "(0.0, 40000.0)"
      ]
     },
     "execution_count": 6,
     "metadata": {},
     "output_type": "execute_result"
    },
    {
     "data": {
      "image/png": "[encoded data removed]",
      "text/plain": [
       "<Figure size 432x288 with 1 Axes>"
      ]
     },
     "metadata": {
      "needs_background": "light"
     },
     "output_type": "display_data"
    }
   ],
   "source": [
    "graph = data[['IP Cash Price','IP Charge','IP Expected Reimbursement']].plot.kde()\n",
    "graph.set_xlim(0, 40000)"
   ]
  },
  {
   "cell_type": "markdown",
   "metadata": {},
   "source": [
    "### Question:\n",
    "\n",
    "If I told you what these values represent, what conclusions could you draw about the pattern?\n",
    "* IP Cash Price is the amount you would pay on your own without using insurance\n",
    "* IP Charge is the maximum amount for which the hospital says it can submit a bill to an insurance company\n",
    "* IP Expected Reimbursement is the amount that the hospital believes it is contracted to receive in payment from an insurance company"
   ]
  },
  {
   "cell_type": "markdown",
   "metadata": {},
   "source": [
    "---\n",
    "\n",
    "### 41.3 Creating a new set of series\n",
    "\n",
    "In order to understand how this data varies across different payers, we have to create new data series that are based on the payer information.  In the data, we have a column called **Payer** that holds this information.\n",
    "\n",
    "We can use the Pandas [groupby()](https://pandas.pydata.org/docs/reference/api/pandas.DataFrame.groupby.html) function to create groupings based on Payer and then plot kde based on those groupings.  When [plotting a Pandas groupby result](https://pandas.pydata.org/pandas-docs/version/0.16.2/generated/pandas.core.groupby.DataFrameGroupBy.plot.html), the options are different than plotting a dataframe."
   ]
  },
  {
   "cell_type": "code",
   "execution_count": 7,
   "metadata": {},
   "outputs": [],
   "source": [
    "data = data['Payer'].value_counts()"
   ]
  },
  {
   "cell_type": "code",
   "execution_count": 8,
   "metadata": {},
   "outputs": [
    {
     "ename": "KeyError",
     "evalue": "'Payer'",
     "output_type": "error",
     "traceback": [
      "\u001b[0;31m---------------------------------------------------------------------------\u001b[0m",
      "\u001b[0;31mKeyError\u001b[0m                                  Traceback (most recent call last)",
      "\u001b[0;32m<ipython-input-8-db7c51ed30ad>\u001b[0m in \u001b[0;36m<module>\u001b[0;34m\u001b[0m\n\u001b[0;32m----> 1\u001b[0;31m \u001b[0mdata\u001b[0m\u001b[0;34m.\u001b[0m\u001b[0mgroupby\u001b[0m\u001b[0;34m(\u001b[0m\u001b[0;34m[\u001b[0m\u001b[0;34m'Payer'\u001b[0m\u001b[0;34m]\u001b[0m\u001b[0;34m)\u001b[0m\u001b[0;34m[\u001b[0m\u001b[0;34m'IP Expected Reimbursement'\u001b[0m\u001b[0;34m]\u001b[0m\u001b[0;34m.\u001b[0m\u001b[0mcount\u001b[0m\u001b[0;34m(\u001b[0m\u001b[0;34m)\u001b[0m\u001b[0;34m\u001b[0m\u001b[0;34m\u001b[0m\u001b[0m\n\u001b[0m",
      "\u001b[0;32m/opt/tljh/user/lib/python3.6/site-packages/pandas/core/series.py\u001b[0m in \u001b[0;36mgroupby\u001b[0;34m(self, by, axis, level, as_index, sort, group_keys, squeeze, observed, dropna)\u001b[0m\n\u001b[1;32m   1744\u001b[0m             \u001b[0msqueeze\u001b[0m\u001b[0;34m=\u001b[0m\u001b[0msqueeze\u001b[0m\u001b[0;34m,\u001b[0m\u001b[0;34m\u001b[0m\u001b[0;34m\u001b[0m\u001b[0m\n\u001b[1;32m   1745\u001b[0m             \u001b[0mobserved\u001b[0m\u001b[0;34m=\u001b[0m\u001b[0mobserved\u001b[0m\u001b[0;34m,\u001b[0m\u001b[0;34m\u001b[0m\u001b[0;34m\u001b[0m\u001b[0m\n\u001b[0;32m-> 1746\u001b[0;31m             \u001b[0mdropna\u001b[0m\u001b[0;34m=\u001b[0m\u001b[0mdropna\u001b[0m\u001b[0;34m,\u001b[0m\u001b[0;34m\u001b[0m\u001b[0;34m\u001b[0m\u001b[0m\n\u001b[0m\u001b[1;32m   1747\u001b[0m         )\n\u001b[1;32m   1748\u001b[0m \u001b[0;34m\u001b[0m\u001b[0m\n",
      "\u001b[0;32m/opt/tljh/user/lib/python3.6/site-packages/pandas/core/groupby/groupby.py\u001b[0m in \u001b[0;36m__init__\u001b[0;34m(self, obj, keys, axis, level, grouper, exclusions, selection, as_index, sort, group_keys, squeeze, observed, mutated, dropna)\u001b[0m\n\u001b[1;32m    531\u001b[0m                 \u001b[0mobserved\u001b[0m\u001b[0;34m=\u001b[0m\u001b[0mobserved\u001b[0m\u001b[0;34m,\u001b[0m\u001b[0;34m\u001b[0m\u001b[0;34m\u001b[0m\u001b[0m\n\u001b[1;32m    532\u001b[0m                 \u001b[0mmutated\u001b[0m\u001b[0;34m=\u001b[0m\u001b[0mself\u001b[0m\u001b[0;34m.\u001b[0m\u001b[0mmutated\u001b[0m\u001b[0;34m,\u001b[0m\u001b[0;34m\u001b[0m\u001b[0;34m\u001b[0m\u001b[0m\n\u001b[0;32m--> 533\u001b[0;31m                 \u001b[0mdropna\u001b[0m\u001b[0;34m=\u001b[0m\u001b[0mself\u001b[0m\u001b[0;34m.\u001b[0m\u001b[0mdropna\u001b[0m\u001b[0;34m,\u001b[0m\u001b[0;34m\u001b[0m\u001b[0;34m\u001b[0m\u001b[0m\n\u001b[0m\u001b[1;32m    534\u001b[0m             )\n\u001b[1;32m    535\u001b[0m \u001b[0;34m\u001b[0m\u001b[0m\n",
      "\u001b[0;32m/opt/tljh/user/lib/python3.6/site-packages/pandas/core/groupby/grouper.py\u001b[0m in \u001b[0;36mget_grouper\u001b[0;34m(obj, key, axis, level, sort, observed, mutated, validate, dropna)\u001b[0m\n\u001b[1;32m    784\u001b[0m                 \u001b[0min_axis\u001b[0m\u001b[0;34m,\u001b[0m \u001b[0mname\u001b[0m\u001b[0;34m,\u001b[0m \u001b[0mlevel\u001b[0m\u001b[0;34m,\u001b[0m \u001b[0mgpr\u001b[0m \u001b[0;34m=\u001b[0m \u001b[0;32mFalse\u001b[0m\u001b[0;34m,\u001b[0m \u001b[0;32mNone\u001b[0m\u001b[0;34m,\u001b[0m \u001b[0mgpr\u001b[0m\u001b[0;34m,\u001b[0m \u001b[0;32mNone\u001b[0m\u001b[0;34m\u001b[0m\u001b[0;34m\u001b[0m\u001b[0m\n\u001b[1;32m    785\u001b[0m             \u001b[0;32melse\u001b[0m\u001b[0;34m:\u001b[0m\u001b[0;34m\u001b[0m\u001b[0;34m\u001b[0m\u001b[0m\n\u001b[0;32m--> 786\u001b[0;31m                 \u001b[0;32mraise\u001b[0m \u001b[0mKeyError\u001b[0m\u001b[0;34m(\u001b[0m\u001b[0mgpr\u001b[0m\u001b[0;34m)\u001b[0m\u001b[0;34m\u001b[0m\u001b[0;34m\u001b[0m\u001b[0m\n\u001b[0m\u001b[1;32m    787\u001b[0m         \u001b[0;32melif\u001b[0m \u001b[0misinstance\u001b[0m\u001b[0;34m(\u001b[0m\u001b[0mgpr\u001b[0m\u001b[0;34m,\u001b[0m \u001b[0mGrouper\u001b[0m\u001b[0;34m)\u001b[0m \u001b[0;32mand\u001b[0m \u001b[0mgpr\u001b[0m\u001b[0;34m.\u001b[0m\u001b[0mkey\u001b[0m \u001b[0;32mis\u001b[0m \u001b[0;32mnot\u001b[0m \u001b[0;32mNone\u001b[0m\u001b[0;34m:\u001b[0m\u001b[0;34m\u001b[0m\u001b[0;34m\u001b[0m\u001b[0m\n\u001b[1;32m    788\u001b[0m             \u001b[0;31m# Add key to exclusions\u001b[0m\u001b[0;34m\u001b[0m\u001b[0;34m\u001b[0m\u001b[0;34m\u001b[0m\u001b[0m\n",
      "\u001b[0;31mKeyError\u001b[0m: 'Payer'"
     ]
    }
   ],
   "source": [
    "data.groupby(['Payer'])['IP Expected Reimbursement'].count()"
   ]
  },
  {
   "cell_type": "code",
   "execution_count": null,
   "metadata": {},
   "outputs": [],
   "source": [
    "data.groupby(['Payer'])['IP Expected Reimbursement'].plot.kde(xlim=(0,40000),\n",
    "    legend=True,\n",
    "    figsize=(13,5.5))\n"
   ]
  },
  {
   "cell_type": "markdown",
   "metadata": {},
   "source": [
    "### Question:\n",
    "\n",
    "Remember what this KDE represents. The x-axis is the price being reimbursement for a particular service and the y-axis represents how many different records in the input fall into that price range.  So, the higher the line at any particular x value, the more records are there.\n",
    "\n",
    "If the line is higher the further left you go, that means most prices are lower.  If the peak of the line is more the the right, then the typical price is higher.\n",
    "\n",
    "* What do you observe about the patterns in reimbursement above?\n",
    "* What does that tell you about these particular plans?\n"
   ]
  },
  {
   "cell_type": "markdown",
   "metadata": {},
   "source": [
    "---\n",
    "\n",
    "### 41.4 Seeing if there's any correlation\n",
    "\n",
    "So, we know that there are cash prices and insurance paid prices.  How strongly correlated are those amounts?\n",
    "\n",
    "We can use a scatterplot with one value on the x axis and the other on the y axis to do a simple visualization of this."
   ]
  },
  {
   "cell_type": "code",
   "execution_count": null,
   "metadata": {},
   "outputs": [],
   "source": [
    "data.plot.scatter(x='IP Cash Price', y='IP Expected Reimbursement', color='DarkRed', label='Reimbursement')"
   ]
  },
  {
   "cell_type": "code",
   "execution_count": null,
   "metadata": {},
   "outputs": [],
   "source": [
    "groups = data.groupby(['Payer'])\n",
    "plt.figure(figsize=(17,11))\n",
    "\n",
    "for i, (payer, prices) in enumerate(groups):\n",
    "    ax = plt.subplot(3,3, i+1)\n",
    "    prices.plot.scatter(x='IP Cash Price',y='IP Expected Reimbursement',ax=ax)\n",
    "    ax.set_title(payer)\n",
    "    ax.set_xlim(0,20000)\n",
    "    ax.set_ylim(0,80000)\n",
    "\n",
    "plt.tight_layout()\n",
    "plt.show()"
   ]
  },
  {
   "cell_type": "markdown",
   "metadata": {},
   "source": [
    "---\n",
    "\n",
    "### 41.5 Find Something of Your Own\n",
    "\n",
    "What data are you interested in?  To earn full credit this week, you'll need to do the following:\n",
    "1. Bring in some other data that you're interested in visualizing.  You can upload the file to your project directory and work with it here.\n",
    "2. Read that data in using Pandas\n",
    "3. Produce at least two different visualizations of that data\n",
    "4. Write a paragraph that describes your observations of the trends in that data\n",
    "\n",
    "If you're struggling to find data to use, feel free to reach out to me.  I can make some recommendations on data sets with interesting trends in them.\n",
    "\n",
    "[Here is a helpful reference for plotting in Pandas.](https://pandas.pydata.org/pandas-docs/stable/user_guide/visualization.html)"
   ]
  },
  {
   "cell_type": "code",
   "execution_count": null,
   "metadata": {},
   "outputs": [],
   "source": [
    "import pandas as pd\n",
    "import seaborn as sns \n",
    "\n",
    "data_1 = pd.read_excel('HMP 5200_MO Data.xlsx', sheet_name='Missouri Data')"
   ]
  },
  {
   "cell_type": "code",
   "execution_count": null,
   "metadata": {},
   "outputs": [],
   "source": [
    "sns.regplot(data = data_1, x='% Fair/Poor health', y='% Uninsured', color='Blue')\n",
    "sns.regplot(data = data_1, x='% Fair/Poor health', y='% Physically Inactive', color='Orange')"
   ]
  },
  {
   "cell_type": "markdown",
   "metadata": {},
   "source": [
    "### Observations #1\n",
    "\n",
    "From this data set we can observe and confirm a hypothesis that those who are in worse health condition tend to be more physically inactive. The seaborn capability shows us via a line of how the data is trending and can help us estimate future values if nesssary. "
   ]
  },
  {
   "cell_type": "code",
   "execution_count": null,
   "metadata": {},
   "outputs": [],
   "source": [
    "import pandas as pd\n",
    "import matplotlib.pyplot as plt\n",
    "\n",
    "data = pd.read_csv('owid-covid-data.csv')\n",
    "data.head()"
   ]
  },
  {
   "cell_type": "code",
   "execution_count": null,
   "metadata": {},
   "outputs": [],
   "source": []
  },
  {
   "cell_type": "code",
   "execution_count": null,
   "metadata": {},
   "outputs": [],
   "source": [
    "data['continent'].value_counts()"
   ]
  },
  {
   "cell_type": "code",
   "execution_count": null,
   "metadata": {},
   "outputs": [],
   "source": []
  },
  {
   "cell_type": "code",
   "execution_count": null,
   "metadata": {},
   "outputs": [],
   "source": [
    "data.groupby(['continent'])['total_deaths'].count()"
   ]
  },
  {
   "cell_type": "code",
   "execution_count": null,
   "metadata": {},
   "outputs": [],
   "source": [
    "data.groupby(['continent'])['total_deaths'].plot.kde(xlim=(0,2000), legend=True,\n",
    "    figsize=(13,5.5))"
   ]
  },
  {
   "cell_type": "markdown",
   "metadata": {},
   "source": [
    "### Observations #2\n",
    "\n",
    "From this generated graph we can tell there are a higher density of deaths in lower numbers in the Oceania continent, but there is a spike in occurance when death toll is between 750 and 100. Africa shows initally a density for death toll but tapers off as well. Remaining continents have a contsant increase in deaths. "
   ]
  },
  {
   "cell_type": "code",
   "execution_count": null,
   "metadata": {},
   "outputs": [],
   "source": []
  },
  {
   "cell_type": "markdown",
   "metadata": {},
   "source": [
    "---\n",
    "\n",
    "## Submitting Your Work\n",
    "\n",
    "In order to submit your work, you'll need to use the `git` command line program to **add** your homework file (this file) to your local repository, **commit** your changes to your local repository, and then **push** those changes up to github.com.  From there, I'll be able to **pull** the changes down and do my grading.  I'll provide some feedback, **commit** and **push** my comments back to you.  Next week, I'll show you how to **pull** down my comments.\n",
    "\n",
    "To run through everything one last time and submit your work:\n",
    "1. Use the `Kernel` -> `Restart Kernel and Run All Cells` menu option to run everything from top to bottom and stop here.\n",
    "2. Save this note with Ctrl-S (or Cmd-S)\n",
    "2. Skip down to the last command cell (the one starting with `%%bash`) and run that cell.\n",
    "\n",
    "If anything fails along the way with this submission part of the process, let me know.  I'll help you troubleshoort."
   ]
  },
  {
   "cell_type": "code",
   "execution_count": null,
   "metadata": {},
   "outputs": [],
   "source": [
    "assert False, \"DO NOT REMOVE THIS LINE\""
   ]
  },
  {
   "cell_type": "markdown",
   "metadata": {},
   "source": [
    "---"
   ]
  },
  {
   "cell_type": "code",
   "execution_count": null,
   "metadata": {},
   "outputs": [],
   "source": [
    "%%bash\n",
    "git pull\n",
    "git add week09_assignment_2.ipynb\n",
    "git commit -a -m \"Submitting the week 9 programming assignment\"\n",
    "git push"
   ]
  },
  {
   "cell_type": "markdown",
   "metadata": {},
   "source": [
    "\n",
    "---\n",
    "\n",
    "If the message above says something like _Submitting the week 8 programming assignment_ or _Everything is up to date_, then your work was submitted correctly."
   ]
  },
  {
   "cell_type": "code",
   "execution_count": null,
   "metadata": {},
   "outputs": [],
   "source": []
  }
 ],
 "metadata": {
  "kernelspec": {
   "display_name": "Python 3",
   "language": "python",
   "name": "python3"
  },
  "language_info": {
   "codemirror_mode": {
    "name": "ipython",
    "version": 3
   },
   "file_extension": ".py",
   "mimetype": "text/x-python",
   "name": "python",
   "nbconvert_exporter": "python",
   "pygments_lexer": "ipython3",
   "version": "3.6.7"
  }
 },
 "nbformat": 4,
 "nbformat_minor": 4
}
